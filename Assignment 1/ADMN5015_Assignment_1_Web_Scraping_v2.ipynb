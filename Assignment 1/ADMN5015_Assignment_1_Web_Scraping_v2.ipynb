{
 "cells": [
  {
   "cell_type": "markdown",
   "metadata": {
    "id": "9-OldzTIsWB-"
   },
   "source": [
    "---"
   ]
  },
  {
   "cell_type": "markdown",
   "metadata": {
    "id": "hfypIH6NbFmZ"
   },
   "source": [
    "<center><h1>ADMN5015 Artificial Intelligence in Marketing</h1>\n",
    "<h2>Assignment 1: Regression\n",
    "<h3>Katrina Ong"
   ]
  },
  {
   "cell_type": "markdown",
   "metadata": {},
   "source": [
    "---"
   ]
  },
  {
   "cell_type": "markdown",
   "metadata": {
    "id": "Uza8gpANXHLA"
   },
   "source": [
    "**Summary**\n",
    "\n",
    "This project aims to scrape website information about product pricing and perform a prediction on new data.\n",
    "\n",
    "The data included likes, dislikes, followers, and price from January 1, 2019 to December 31, 2023 on the \"My Retail Store\" Website.\n",
    "\n",
    "To build a machine learning model, the following steps are implemented in this notebook: \n",
    "1. Import Packages\n",
    "2. Scrape Website Information\n",
    "3. Explore the Data\n",
    "4. Prepare the Data (Feature Engineering)\n",
    "5. Train and Test Regression Models\n",
    "6. Evaluate the Best Model\n",
    "\n",
    "More details can be found in each line of code below."
   ]
  },
  {
   "cell_type": "markdown",
   "metadata": {
    "id": "1k65lXqRZwt7"
   },
   "source": [
    "**Results**\n",
    "\n",
    "The selected model is the GaussianProcessRegressor. As the name implies, it uses Gaussian processes for regression purposes.  \n",
    "\n",
    "The GaussianProcessRegressor was able to achieve a Root Mean Squared Error (RMSE) of 0.0106 and a run-time of 0.01 seconds. K fold cross-validation (k=10) based on RMSE was also conducted in order to estimate how well the model would perform with new data. The average RMSE among folds was 0.0159. "
   ]
  },
  {
   "cell_type": "markdown",
   "metadata": {
    "id": "t_v_q-Xsaku-"
   },
   "source": [
    "**Sources:** [[1]](https://scikit-learn.org/stable/modules/gaussian_process.html), [[2]](https://www.youtube.com/watch?v=iDzaoEwd0N0), [[3]](https://www.mygreatlearning.com/blog/cross-validation/#sh212)"
   ]
  },
  {
   "cell_type": "markdown",
   "metadata": {
    "id": "zV0UpOIxbFmd"
   },
   "source": [
    "---"
   ]
  },
  {
   "cell_type": "markdown",
   "metadata": {
    "id": "fbzPJ5YLbFmd"
   },
   "source": [
    "### 1) Import Packages"
   ]
  },
  {
   "cell_type": "code",
   "execution_count": 1,
   "metadata": {
    "id": "wigpxwpsbFme"
   },
   "outputs": [],
   "source": [
    "#Importing Standard packages\n",
    "import numpy as np\n",
    "from scipy import stats\n",
    "import pandas as pd\n",
    "import matplotlib.pyplot as plt\n",
    "import seaborn as sns\n",
    "import missingno as msno\n",
    "\n",
    "from datetime import datetime, date, timedelta\n",
    "import time\n",
    "from time import strptime"
   ]
  },
  {
   "cell_type": "code",
   "execution_count": 2,
   "metadata": {
    "id": "5qNSHLunbFmf"
   },
   "outputs": [],
   "source": [
    "#Web Scraping\n",
    "\n",
    "#Library used for making HTTP Requests\n",
    "import requests\n",
    "\n",
    "#Library used to parse HTML \n",
    "from bs4 import BeautifulSoup as bs"
   ]
  },
  {
   "cell_type": "code",
   "execution_count": 3,
   "metadata": {
    "id": "beQxvi_ZbFmg",
    "scrolled": false
   },
   "outputs": [],
   "source": [
    "#Feature Engineering Packages\n",
    "from sklearn.compose import ColumnTransformer\n",
    "from sklearn.preprocessing import StandardScaler, RobustScaler,MinMaxScaler\n",
    "from feature_engine.datetime import DatetimeFeatures"
   ]
  },
  {
   "cell_type": "code",
   "execution_count": 4,
   "metadata": {
    "id": "FI7ie9kPtDS2"
   },
   "outputs": [],
   "source": [
    "#Train Test Split\n",
    "from sklearn.model_selection import train_test_split"
   ]
  },
  {
   "cell_type": "code",
   "execution_count": 5,
   "metadata": {
    "id": "q6dt3TBvbFmg"
   },
   "outputs": [],
   "source": [
    "#Regressors\n",
    "from xgboost import XGBRegressor\n",
    "from sklearn.tree import DecisionTreeRegressor\n",
    "from sklearn.gaussian_process import GaussianProcessRegressor\n",
    "from sklearn.linear_model import LinearRegression\n",
    "from sklearn.linear_model import Ridge\n",
    "from sklearn.linear_model import Lars\n",
    "from sklearn.linear_model import TheilSenRegressor\n",
    "from sklearn.linear_model import HuberRegressor\n",
    "from sklearn.linear_model import PassiveAggressiveRegressor\n",
    "from sklearn.linear_model import ARDRegression\n",
    "from sklearn.linear_model import BayesianRidge\n",
    "from sklearn.linear_model import ElasticNet\n",
    "from sklearn.linear_model import OrthogonalMatchingPursuit\n",
    "from sklearn.svm import SVR\n",
    "from sklearn.svm import NuSVR\n",
    "from sklearn.svm import LinearSVR\n",
    "from sklearn.kernel_ridge import KernelRidge\n",
    "from sklearn.isotonic import IsotonicRegression\n",
    "from sklearn.ensemble import RandomForestRegressor"
   ]
  },
  {
   "cell_type": "code",
   "execution_count": 6,
   "metadata": {
    "id": "dsTcYlpxbFmh"
   },
   "outputs": [],
   "source": [
    "# Model Selection\n",
    "from sklearn.model_selection import (RepeatedStratifiedKFold, \n",
    "                                     GridSearchCV, \n",
    "                                     RandomizedSearchCV,\n",
    "                                     cross_val_score)"
   ]
  },
  {
   "cell_type": "code",
   "execution_count": 7,
   "metadata": {
    "id": "sc8K73PkbFmi"
   },
   "outputs": [],
   "source": [
    "# Model Evaluation\n",
    "from sklearn.metrics import mean_squared_error, r2_score,mean_absolute_error"
   ]
  },
  {
   "cell_type": "code",
   "execution_count": 8,
   "metadata": {
    "id": "V06DsvikbFmi"
   },
   "outputs": [],
   "source": [
    "# Set Options for display\n",
    "pd.options.display.max_rows = 1000\n",
    "pd.options.display.max_columns = 100\n",
    "pd.options.display.float_format = '{:.4f}'.format\n",
    "sns.set_style(\"whitegrid\")\n",
    "sns.set_context(\"paper\", font_scale = 2)\n",
    "\n",
    "%matplotlib inline\n",
    "\n",
    "import warnings\n",
    "warnings.filterwarnings(\"ignore\")\n",
    "warnings.simplefilter(action='ignore', category=FutureWarning)"
   ]
  },
  {
   "cell_type": "markdown",
   "metadata": {
    "id": "gXnObRnRbFmj"
   },
   "source": [
    "---"
   ]
  },
  {
   "cell_type": "markdown",
   "metadata": {
    "id": "_5l4oBE-bFmk"
   },
   "source": [
    "### 2) Scrape Website Information"
   ]
  },
  {
   "cell_type": "code",
   "execution_count": 9,
   "metadata": {
    "id": "ANaxlHyjbFmk"
   },
   "outputs": [],
   "source": [
    "# Defining Dates to Iterate through\n",
    "start_date = date(2019,1,1)\n",
    "end_date = date(2023,12,31)\n",
    "date_range = pd.date_range(start_date,end_date)"
   ]
  },
  {
   "cell_type": "code",
   "execution_count": 10,
   "metadata": {
    "id": "wN7O6lA6bFml"
   },
   "outputs": [],
   "source": [
    "# Checking access for first page of the website\n",
    "url = \"https://admn5015-340805.uc.r.appspot.com/2019-01-01.html\"\n",
    "response = requests.get(url, timeout=15)"
   ]
  },
  {
   "cell_type": "code",
   "execution_count": 11,
   "metadata": {
    "colab": {
     "base_uri": "https://localhost:8080/"
    },
    "id": "6InPj1kWbFml",
    "outputId": "45635af0-0930-482d-dded-e05e0d275836"
   },
   "outputs": [
    {
     "data": {
      "text/plain": [
       "200"
      ]
     },
     "execution_count": 11,
     "metadata": {},
     "output_type": "execute_result"
    }
   ],
   "source": [
    "# Checking if the request for website access has succeeded, 200 means OK\n",
    "html = response.status_code\n",
    "html"
   ]
  },
  {
   "cell_type": "code",
   "execution_count": 12,
   "metadata": {
    "id": "Sk8BWlh1bFmn"
   },
   "outputs": [],
   "source": [
    "# Creating a Dataframe to Store Website Data\n",
    "labels = ('date','likes','dislikes','followers','price')\n",
    "df = pd.DataFrame(columns = labels)"
   ]
  },
  {
   "cell_type": "code",
   "execution_count": 13,
   "metadata": {
    "colab": {
     "base_uri": "https://localhost:8080/",
     "height": 49
    },
    "id": "_yMugA0TbFmo",
    "outputId": "2ba7fb9d-6fdf-4ee6-ee54-93d1f6b52fb1"
   },
   "outputs": [
    {
     "data": {
      "text/html": [
       "<div>\n",
       "<style scoped>\n",
       "    .dataframe tbody tr th:only-of-type {\n",
       "        vertical-align: middle;\n",
       "    }\n",
       "\n",
       "    .dataframe tbody tr th {\n",
       "        vertical-align: top;\n",
       "    }\n",
       "\n",
       "    .dataframe thead th {\n",
       "        text-align: right;\n",
       "    }\n",
       "</style>\n",
       "<table border=\"1\" class=\"dataframe\">\n",
       "  <thead>\n",
       "    <tr style=\"text-align: right;\">\n",
       "      <th></th>\n",
       "      <th>date</th>\n",
       "      <th>likes</th>\n",
       "      <th>dislikes</th>\n",
       "      <th>followers</th>\n",
       "      <th>price</th>\n",
       "    </tr>\n",
       "  </thead>\n",
       "  <tbody>\n",
       "  </tbody>\n",
       "</table>\n",
       "</div>"
      ],
      "text/plain": [
       "Empty DataFrame\n",
       "Columns: [date, likes, dislikes, followers, price]\n",
       "Index: []"
      ]
     },
     "execution_count": 13,
     "metadata": {},
     "output_type": "execute_result"
    }
   ],
   "source": [
    "# Preview Dataframe\n",
    "df.head()"
   ]
  },
  {
   "cell_type": "code",
   "execution_count": 14,
   "metadata": {
    "id": "AILqa3hwbFmp"
   },
   "outputs": [],
   "source": [
    "# Looping through each page of the website to scrape data\n",
    "\n",
    "counter = 0\n",
    "\n",
    "for single_date in date_range:\n",
    "    \n",
    "    # Generate webpage URL with date range\n",
    "    single_date_parsed = single_date.strftime(\"%Y-%m-%d\")\n",
    "    url = f\"https://admn5015-340805.uc.r.appspot.com/{single_date_parsed}.html\"\n",
    "    \n",
    "    # Open URL\n",
    "    response = requests.get(url, timeout=15)\n",
    "    html = response.text\n",
    "\n",
    "    # Parse HTML\n",
    "    soup = bs(html, \"html.parser\")\n",
    "\n",
    "    # Obtain Needed Data\n",
    "    likes = soup.find(\"td\", {\"id\": \"likes\"}).text\n",
    "    dislikes = soup.find(\"td\", {\"id\": \"dislikes\"}).text\n",
    "    followers = soup.find(\"td\", {\"id\": \"followers\"}).text\n",
    "    price = soup.find(\"td\", {\"id\": \"price\"}).text\n",
    "    \n",
    "    # Write data into dataframe\n",
    "    df.loc[counter] = [single_date,likes,dislikes,followers,price]\n",
    "\n",
    "    #Go to next row of data\n",
    "    counter += 1"
   ]
  },
  {
   "cell_type": "code",
   "execution_count": 15,
   "metadata": {
    "colab": {
     "base_uri": "https://localhost:8080/",
     "height": 143
    },
    "id": "ZEXkKtjSbFmp",
    "outputId": "c85620ba-3e83-4461-d7f9-22bf122a4b44"
   },
   "outputs": [
    {
     "data": {
      "text/html": [
       "<div>\n",
       "<style scoped>\n",
       "    .dataframe tbody tr th:only-of-type {\n",
       "        vertical-align: middle;\n",
       "    }\n",
       "\n",
       "    .dataframe tbody tr th {\n",
       "        vertical-align: top;\n",
       "    }\n",
       "\n",
       "    .dataframe thead th {\n",
       "        text-align: right;\n",
       "    }\n",
       "</style>\n",
       "<table border=\"1\" class=\"dataframe\">\n",
       "  <thead>\n",
       "    <tr style=\"text-align: right;\">\n",
       "      <th></th>\n",
       "      <th>date</th>\n",
       "      <th>likes</th>\n",
       "      <th>dislikes</th>\n",
       "      <th>followers</th>\n",
       "      <th>price</th>\n",
       "    </tr>\n",
       "  </thead>\n",
       "  <tbody>\n",
       "    <tr>\n",
       "      <th>0</th>\n",
       "      <td>2019-01-01</td>\n",
       "      <td>9001</td>\n",
       "      <td>401</td>\n",
       "      <td>15002</td>\n",
       "      <td>$ 1000.47 CAD</td>\n",
       "    </tr>\n",
       "    <tr>\n",
       "      <th>1</th>\n",
       "      <td>2019-01-02</td>\n",
       "      <td>9002</td>\n",
       "      <td>402</td>\n",
       "      <td>15004</td>\n",
       "      <td>$ 999.94 CAD</td>\n",
       "    </tr>\n",
       "    <tr>\n",
       "      <th>2</th>\n",
       "      <td>2019-01-03</td>\n",
       "      <td>9003</td>\n",
       "      <td>403</td>\n",
       "      <td>15006</td>\n",
       "      <td>$ 999.41 CAD</td>\n",
       "    </tr>\n",
       "  </tbody>\n",
       "</table>\n",
       "</div>"
      ],
      "text/plain": [
       "        date likes dislikes followers          price\n",
       "0 2019-01-01  9001      401     15002  $ 1000.47 CAD\n",
       "1 2019-01-02  9002      402     15004   $ 999.94 CAD\n",
       "2 2019-01-03  9003      403     15006   $ 999.41 CAD"
      ]
     },
     "execution_count": 15,
     "metadata": {},
     "output_type": "execute_result"
    }
   ],
   "source": [
    "#Preview Start of Dataframe\n",
    "df.head(3)"
   ]
  },
  {
   "cell_type": "code",
   "execution_count": 16,
   "metadata": {
    "colab": {
     "base_uri": "https://localhost:8080/",
     "height": 143
    },
    "id": "CDPoAMfIbFmq",
    "outputId": "541c0102-898a-4f14-e7c5-a8861e621c96"
   },
   "outputs": [
    {
     "data": {
      "text/html": [
       "<div>\n",
       "<style scoped>\n",
       "    .dataframe tbody tr th:only-of-type {\n",
       "        vertical-align: middle;\n",
       "    }\n",
       "\n",
       "    .dataframe tbody tr th {\n",
       "        vertical-align: top;\n",
       "    }\n",
       "\n",
       "    .dataframe thead th {\n",
       "        text-align: right;\n",
       "    }\n",
       "</style>\n",
       "<table border=\"1\" class=\"dataframe\">\n",
       "  <thead>\n",
       "    <tr style=\"text-align: right;\">\n",
       "      <th></th>\n",
       "      <th>date</th>\n",
       "      <th>likes</th>\n",
       "      <th>dislikes</th>\n",
       "      <th>followers</th>\n",
       "      <th>price</th>\n",
       "    </tr>\n",
       "  </thead>\n",
       "  <tbody>\n",
       "    <tr>\n",
       "      <th>1823</th>\n",
       "      <td>2023-12-29</td>\n",
       "      <td>10924</td>\n",
       "      <td>1496</td>\n",
       "      <td>17468</td>\n",
       "      <td>$ 22477.74 CAD</td>\n",
       "    </tr>\n",
       "    <tr>\n",
       "      <th>1824</th>\n",
       "      <td>2023-12-30</td>\n",
       "      <td>10924</td>\n",
       "      <td>1496</td>\n",
       "      <td>17468</td>\n",
       "      <td>$ 22477.74 CAD</td>\n",
       "    </tr>\n",
       "    <tr>\n",
       "      <th>1825</th>\n",
       "      <td>2023-12-31</td>\n",
       "      <td>10924</td>\n",
       "      <td>1496</td>\n",
       "      <td>17468</td>\n",
       "      <td>$ 22477.74 CAD</td>\n",
       "    </tr>\n",
       "  </tbody>\n",
       "</table>\n",
       "</div>"
      ],
      "text/plain": [
       "           date  likes dislikes followers           price\n",
       "1823 2023-12-29  10924     1496     17468  $ 22477.74 CAD\n",
       "1824 2023-12-30  10924     1496     17468  $ 22477.74 CAD\n",
       "1825 2023-12-31  10924     1496     17468  $ 22477.74 CAD"
      ]
     },
     "execution_count": 16,
     "metadata": {},
     "output_type": "execute_result"
    }
   ],
   "source": [
    "#Preview End of Dataframe\n",
    "df.tail(3)"
   ]
  },
  {
   "cell_type": "code",
   "execution_count": 17,
   "metadata": {
    "colab": {
     "base_uri": "https://localhost:8080/"
    },
    "id": "tL_VnBI8bFmq",
    "outputId": "658762f8-d3e2-4139-ac7c-c15de223795c"
   },
   "outputs": [
    {
     "name": "stdout",
     "output_type": "stream",
     "text": [
      "<class 'pandas.core.frame.DataFrame'>\n",
      "Int64Index: 1826 entries, 0 to 1825\n",
      "Data columns (total 5 columns):\n",
      " #   Column     Non-Null Count  Dtype         \n",
      "---  ------     --------------  -----         \n",
      " 0   date       1826 non-null   datetime64[ns]\n",
      " 1   likes      1826 non-null   object        \n",
      " 2   dislikes   1826 non-null   object        \n",
      " 3   followers  1826 non-null   object        \n",
      " 4   price      1826 non-null   object        \n",
      "dtypes: datetime64[ns](1), object(4)\n",
      "memory usage: 85.6+ KB\n"
     ]
    }
   ],
   "source": [
    "#Check Datatypes and Null Values\n",
    "df.info()"
   ]
  },
  {
   "cell_type": "code",
   "execution_count": 18,
   "metadata": {
    "colab": {
     "base_uri": "https://localhost:8080/",
     "height": 178
    },
    "id": "8hr1wWMibFmr",
    "outputId": "00f28c10-ac84-49f8-f8f6-da7f340f4393"
   },
   "outputs": [
    {
     "data": {
      "text/html": [
       "<div>\n",
       "<style scoped>\n",
       "    .dataframe tbody tr th:only-of-type {\n",
       "        vertical-align: middle;\n",
       "    }\n",
       "\n",
       "    .dataframe tbody tr th {\n",
       "        vertical-align: top;\n",
       "    }\n",
       "\n",
       "    .dataframe thead th {\n",
       "        text-align: right;\n",
       "    }\n",
       "</style>\n",
       "<table border=\"1\" class=\"dataframe\">\n",
       "  <thead>\n",
       "    <tr style=\"text-align: right;\">\n",
       "      <th></th>\n",
       "      <th>date</th>\n",
       "      <th>likes</th>\n",
       "      <th>dislikes</th>\n",
       "      <th>followers</th>\n",
       "      <th>price</th>\n",
       "    </tr>\n",
       "  </thead>\n",
       "  <tbody>\n",
       "    <tr>\n",
       "      <th>0</th>\n",
       "      <td>2019-01-01</td>\n",
       "      <td>9001</td>\n",
       "      <td>401</td>\n",
       "      <td>15002</td>\n",
       "      <td>1000.47 CAD</td>\n",
       "    </tr>\n",
       "    <tr>\n",
       "      <th>1</th>\n",
       "      <td>2019-01-02</td>\n",
       "      <td>9002</td>\n",
       "      <td>402</td>\n",
       "      <td>15004</td>\n",
       "      <td>999.94 CAD</td>\n",
       "    </tr>\n",
       "    <tr>\n",
       "      <th>2</th>\n",
       "      <td>2019-01-03</td>\n",
       "      <td>9003</td>\n",
       "      <td>403</td>\n",
       "      <td>15006</td>\n",
       "      <td>999.41 CAD</td>\n",
       "    </tr>\n",
       "  </tbody>\n",
       "</table>\n",
       "</div>"
      ],
      "text/plain": [
       "        date likes dislikes followers         price\n",
       "0 2019-01-01  9001      401     15002   1000.47 CAD\n",
       "1 2019-01-02  9002      402     15004    999.94 CAD\n",
       "2 2019-01-03  9003      403     15006    999.41 CAD"
      ]
     },
     "execution_count": 18,
     "metadata": {},
     "output_type": "execute_result"
    }
   ],
   "source": [
    "# Remove Currency from Price Column\n",
    "df['price'] = df['price'].str.replace('$', '')\n",
    "df.head(3)"
   ]
  },
  {
   "cell_type": "code",
   "execution_count": 19,
   "metadata": {
    "colab": {
     "base_uri": "https://localhost:8080/",
     "height": 143
    },
    "id": "qIircHkObFmr",
    "outputId": "a1ab9873-ffbc-4e29-8190-480bee527629"
   },
   "outputs": [
    {
     "data": {
      "text/html": [
       "<div>\n",
       "<style scoped>\n",
       "    .dataframe tbody tr th:only-of-type {\n",
       "        vertical-align: middle;\n",
       "    }\n",
       "\n",
       "    .dataframe tbody tr th {\n",
       "        vertical-align: top;\n",
       "    }\n",
       "\n",
       "    .dataframe thead th {\n",
       "        text-align: right;\n",
       "    }\n",
       "</style>\n",
       "<table border=\"1\" class=\"dataframe\">\n",
       "  <thead>\n",
       "    <tr style=\"text-align: right;\">\n",
       "      <th></th>\n",
       "      <th>date</th>\n",
       "      <th>likes</th>\n",
       "      <th>dislikes</th>\n",
       "      <th>followers</th>\n",
       "      <th>price</th>\n",
       "    </tr>\n",
       "  </thead>\n",
       "  <tbody>\n",
       "    <tr>\n",
       "      <th>0</th>\n",
       "      <td>2019-01-01</td>\n",
       "      <td>9001</td>\n",
       "      <td>401</td>\n",
       "      <td>15002</td>\n",
       "      <td>1000.47</td>\n",
       "    </tr>\n",
       "    <tr>\n",
       "      <th>1</th>\n",
       "      <td>2019-01-02</td>\n",
       "      <td>9002</td>\n",
       "      <td>402</td>\n",
       "      <td>15004</td>\n",
       "      <td>999.94</td>\n",
       "    </tr>\n",
       "    <tr>\n",
       "      <th>2</th>\n",
       "      <td>2019-01-03</td>\n",
       "      <td>9003</td>\n",
       "      <td>403</td>\n",
       "      <td>15006</td>\n",
       "      <td>999.41</td>\n",
       "    </tr>\n",
       "  </tbody>\n",
       "</table>\n",
       "</div>"
      ],
      "text/plain": [
       "        date likes dislikes followers      price\n",
       "0 2019-01-01  9001      401     15002   1000.47 \n",
       "1 2019-01-02  9002      402     15004    999.94 \n",
       "2 2019-01-03  9003      403     15006    999.41 "
      ]
     },
     "execution_count": 19,
     "metadata": {},
     "output_type": "execute_result"
    }
   ],
   "source": [
    "# Remove Currency from Price Column\n",
    "df['price'] = df['price'].str.replace('CAD', '')\n",
    "df.head(3)"
   ]
  },
  {
   "cell_type": "code",
   "execution_count": 20,
   "metadata": {
    "id": "p17fdVlcbFms"
   },
   "outputs": [],
   "source": [
    "# Convert Data to Numeric Types\n",
    "df[['price','likes','dislikes','followers']] = df[['price','likes','dislikes','followers']].apply(pd.to_numeric)"
   ]
  },
  {
   "cell_type": "code",
   "execution_count": 21,
   "metadata": {
    "colab": {
     "base_uri": "https://localhost:8080/"
    },
    "id": "q6bVcSpbbFmt",
    "outputId": "01a73169-2bc0-4a05-dd2c-c23ad4305ee0"
   },
   "outputs": [
    {
     "name": "stdout",
     "output_type": "stream",
     "text": [
      "<class 'pandas.core.frame.DataFrame'>\n",
      "Int64Index: 1826 entries, 0 to 1825\n",
      "Data columns (total 5 columns):\n",
      " #   Column     Non-Null Count  Dtype         \n",
      "---  ------     --------------  -----         \n",
      " 0   date       1826 non-null   datetime64[ns]\n",
      " 1   likes      1826 non-null   int64         \n",
      " 2   dislikes   1826 non-null   int64         \n",
      " 3   followers  1826 non-null   int64         \n",
      " 4   price      1826 non-null   float64       \n",
      "dtypes: datetime64[ns](1), float64(1), int64(3)\n",
      "memory usage: 85.6 KB\n"
     ]
    }
   ],
   "source": [
    "# Check Resulting Datatypes and Null Values\n",
    "df.info()"
   ]
  },
  {
   "cell_type": "code",
   "execution_count": 22,
   "metadata": {
    "id": "lHa6J6tTbFmt"
   },
   "outputs": [],
   "source": [
    "# Save to CSV File - commented out to avoid generating a new CSV file\n",
    "df.to_csv(\"My Retail Store Website Data.csv\")"
   ]
  },
  {
   "cell_type": "markdown",
   "metadata": {
    "id": "X5AtfGa-bFmu"
   },
   "source": [
    "---"
   ]
  },
  {
   "cell_type": "markdown",
   "metadata": {
    "id": "5Mya-q3UbFmu"
   },
   "source": [
    "### 3) Explore the Data"
   ]
  },
  {
   "cell_type": "code",
   "execution_count": 23,
   "metadata": {
    "colab": {
     "base_uri": "https://localhost:8080/",
     "height": 143
    },
    "id": "mhv_zKyubFmu",
    "outputId": "1b93a0b9-a0fd-4732-e341-3d3fd4043249"
   },
   "outputs": [
    {
     "data": {
      "text/html": [
       "<div>\n",
       "<style scoped>\n",
       "    .dataframe tbody tr th:only-of-type {\n",
       "        vertical-align: middle;\n",
       "    }\n",
       "\n",
       "    .dataframe tbody tr th {\n",
       "        vertical-align: top;\n",
       "    }\n",
       "\n",
       "    .dataframe thead th {\n",
       "        text-align: right;\n",
       "    }\n",
       "</style>\n",
       "<table border=\"1\" class=\"dataframe\">\n",
       "  <thead>\n",
       "    <tr style=\"text-align: right;\">\n",
       "      <th></th>\n",
       "      <th>date</th>\n",
       "      <th>likes</th>\n",
       "      <th>dislikes</th>\n",
       "      <th>followers</th>\n",
       "      <th>price</th>\n",
       "    </tr>\n",
       "  </thead>\n",
       "  <tbody>\n",
       "    <tr>\n",
       "      <th>0</th>\n",
       "      <td>2019-01-01</td>\n",
       "      <td>9001</td>\n",
       "      <td>401</td>\n",
       "      <td>15002</td>\n",
       "      <td>1000.4700</td>\n",
       "    </tr>\n",
       "    <tr>\n",
       "      <th>1</th>\n",
       "      <td>2019-01-02</td>\n",
       "      <td>9002</td>\n",
       "      <td>402</td>\n",
       "      <td>15004</td>\n",
       "      <td>999.9400</td>\n",
       "    </tr>\n",
       "    <tr>\n",
       "      <th>2</th>\n",
       "      <td>2019-01-03</td>\n",
       "      <td>9003</td>\n",
       "      <td>403</td>\n",
       "      <td>15006</td>\n",
       "      <td>999.4100</td>\n",
       "    </tr>\n",
       "  </tbody>\n",
       "</table>\n",
       "</div>"
      ],
      "text/plain": [
       "        date  likes  dislikes  followers     price\n",
       "0 2019-01-01   9001       401      15002 1000.4700\n",
       "1 2019-01-02   9002       402      15004  999.9400\n",
       "2 2019-01-03   9003       403      15006  999.4100"
      ]
     },
     "execution_count": 23,
     "metadata": {},
     "output_type": "execute_result"
    }
   ],
   "source": [
    "# Preview Data\n",
    "df.head(3)"
   ]
  },
  {
   "cell_type": "code",
   "execution_count": 24,
   "metadata": {
    "colab": {
     "base_uri": "https://localhost:8080/",
     "height": 300
    },
    "id": "T4fT4hW-bFmv",
    "outputId": "e2c59254-4d2c-47c1-ed15-e01000e1b19e"
   },
   "outputs": [
    {
     "data": {
      "text/html": [
       "<div>\n",
       "<style scoped>\n",
       "    .dataframe tbody tr th:only-of-type {\n",
       "        vertical-align: middle;\n",
       "    }\n",
       "\n",
       "    .dataframe tbody tr th {\n",
       "        vertical-align: top;\n",
       "    }\n",
       "\n",
       "    .dataframe thead th {\n",
       "        text-align: right;\n",
       "    }\n",
       "</style>\n",
       "<table border=\"1\" class=\"dataframe\">\n",
       "  <thead>\n",
       "    <tr style=\"text-align: right;\">\n",
       "      <th></th>\n",
       "      <th>likes</th>\n",
       "      <th>dislikes</th>\n",
       "      <th>followers</th>\n",
       "      <th>price</th>\n",
       "    </tr>\n",
       "  </thead>\n",
       "  <tbody>\n",
       "    <tr>\n",
       "      <th>count</th>\n",
       "      <td>1826.0000</td>\n",
       "      <td>1826.0000</td>\n",
       "      <td>1826.0000</td>\n",
       "      <td>1826.0000</td>\n",
       "    </tr>\n",
       "    <tr>\n",
       "      <th>mean</th>\n",
       "      <td>10285.1446</td>\n",
       "      <td>1167.3801</td>\n",
       "      <td>16707.3483</td>\n",
       "      <td>13438.0333</td>\n",
       "    </tr>\n",
       "    <tr>\n",
       "      <th>std</th>\n",
       "      <td>672.9400</td>\n",
       "      <td>363.4328</td>\n",
       "      <td>829.3723</td>\n",
       "      <td>8909.5843</td>\n",
       "    </tr>\n",
       "    <tr>\n",
       "      <th>min</th>\n",
       "      <td>9001.0000</td>\n",
       "      <td>401.0000</td>\n",
       "      <td>15002.0000</td>\n",
       "      <td>856.3100</td>\n",
       "    </tr>\n",
       "    <tr>\n",
       "      <th>25%</th>\n",
       "      <td>9733.2500</td>\n",
       "      <td>857.2500</td>\n",
       "      <td>16006.5000</td>\n",
       "      <td>2578.4250</td>\n",
       "    </tr>\n",
       "    <tr>\n",
       "      <th>50%</th>\n",
       "      <td>10465.5000</td>\n",
       "      <td>1313.5000</td>\n",
       "      <td>17011.0000</td>\n",
       "      <td>14398.5300</td>\n",
       "    </tr>\n",
       "    <tr>\n",
       "      <th>75%</th>\n",
       "      <td>10924.0000</td>\n",
       "      <td>1496.0000</td>\n",
       "      <td>17468.0000</td>\n",
       "      <td>22477.7400</td>\n",
       "    </tr>\n",
       "    <tr>\n",
       "      <th>max</th>\n",
       "      <td>10924.0000</td>\n",
       "      <td>1496.0000</td>\n",
       "      <td>17468.0000</td>\n",
       "      <td>22477.7400</td>\n",
       "    </tr>\n",
       "  </tbody>\n",
       "</table>\n",
       "</div>"
      ],
      "text/plain": [
       "           likes  dislikes  followers      price\n",
       "count  1826.0000 1826.0000  1826.0000  1826.0000\n",
       "mean  10285.1446 1167.3801 16707.3483 13438.0333\n",
       "std     672.9400  363.4328   829.3723  8909.5843\n",
       "min    9001.0000  401.0000 15002.0000   856.3100\n",
       "25%    9733.2500  857.2500 16006.5000  2578.4250\n",
       "50%   10465.5000 1313.5000 17011.0000 14398.5300\n",
       "75%   10924.0000 1496.0000 17468.0000 22477.7400\n",
       "max   10924.0000 1496.0000 17468.0000 22477.7400"
      ]
     },
     "execution_count": 24,
     "metadata": {},
     "output_type": "execute_result"
    }
   ],
   "source": [
    "# Obtain summary statistics of numerical features\n",
    "df.describe()"
   ]
  },
  {
   "cell_type": "code",
   "execution_count": 25,
   "metadata": {
    "colab": {
     "base_uri": "https://localhost:8080/",
     "height": 513
    },
    "id": "R9tV5NHYmTho",
    "outputId": "4043e69f-7a95-4585-b8d9-09ce8c7168a1"
   },
   "outputs": [
    {
     "data": {
      "image/png": "[encoded data removed]",
      "text/plain": [
       "<Figure size 1080x576 with 4 Axes>"
      ]
     },
     "metadata": {
      "needs_background": "light"
     },
     "output_type": "display_data"
    }
   ],
   "source": [
    "#displaying the distribution of each numerical feature on a logarithmic scale\n",
    "df.hist(column = ['likes','followers','dislikes','price'], bins = 80, figsize = (15,8), log = True);"
   ]
  },
  {
   "cell_type": "code",
   "execution_count": 26,
   "metadata": {
    "colab": {
     "base_uri": "https://localhost:8080/",
     "height": 336
    },
    "id": "I7MnQ6tabFmv",
    "outputId": "84a324c0-8c7a-47d7-b240-4606462754d4"
   },
   "outputs": [
    {
     "data": {
      "image/png": "[encoded data removed]",
      "text/plain": [
       "<Figure size 432x288 with 1 Axes>"
      ]
     },
     "metadata": {
      "needs_background": "light"
     },
     "output_type": "display_data"
    }
   ],
   "source": [
    "# Visualize and Sort numerical features based on correlation to target\n",
    "bars = df.corr()['price'].sort_values(ascending=False).plot(kind='bar')"
   ]
  },
  {
   "cell_type": "code",
   "execution_count": 27,
   "metadata": {
    "colab": {
     "base_uri": "https://localhost:8080/",
     "height": 343
    },
    "id": "cuBVNA09gc__",
    "outputId": "e6b4f2a9-5a36-4d09-c913-bfaddb16f156"
   },
   "outputs": [
    {
     "data": {
      "image/png": "[encoded data removed]",
      "text/plain": [
       "<Figure size 432x288 with 2 Axes>"
      ]
     },
     "metadata": {
      "needs_background": "light"
     },
     "output_type": "display_data"
    }
   ],
   "source": [
    "# Visualize heatmap of correlations between all numerical columns\n",
    "heatmap = sns.heatmap(df.corr(), annot=True)"
   ]
  },
  {
   "cell_type": "code",
   "execution_count": 28,
   "metadata": {
    "colab": {
     "base_uri": "https://localhost:8080/",
     "height": 724
    },
    "id": "jI5xKoF-gdD8",
    "outputId": "47e7d2dd-daf0-4140-8e71-704c30cd4d26"
   },
   "outputs": [
    {
     "data": {
      "image/png": "[encoded data removed]",
      "text/plain": [
       "<Figure size 720x720 with 20 Axes>"
      ]
     },
     "metadata": {},
     "output_type": "display_data"
    }
   ],
   "source": [
    "# Plot relationship of numerical features\n",
    "sns.set(font_scale=1)\n",
    "sns.pairplot(df);"
   ]
  },
  {
   "cell_type": "markdown",
   "metadata": {
    "id": "ifVMbWeXbFmv"
   },
   "source": [
    "---"
   ]
  },
  {
   "cell_type": "markdown",
   "metadata": {
    "id": "kKbSH3qVbFmv"
   },
   "source": [
    "### 4) Data Preparation / Feature Engineering"
   ]
  },
  {
   "cell_type": "markdown",
   "metadata": {
    "id": "RJKF_PFh32VQ"
   },
   "source": [
    "#### a) Feature Engineering for Datetime"
   ]
  },
  {
   "cell_type": "code",
   "execution_count": 29,
   "metadata": {
    "colab": {
     "base_uri": "https://localhost:8080/",
     "height": 143
    },
    "id": "5hTiR1aRbFmw",
    "outputId": "b319cf5f-c2e2-4826-f94d-41d42f58fd46"
   },
   "outputs": [
    {
     "data": {
      "text/html": [
       "<div>\n",
       "<style scoped>\n",
       "    .dataframe tbody tr th:only-of-type {\n",
       "        vertical-align: middle;\n",
       "    }\n",
       "\n",
       "    .dataframe tbody tr th {\n",
       "        vertical-align: top;\n",
       "    }\n",
       "\n",
       "    .dataframe thead th {\n",
       "        text-align: right;\n",
       "    }\n",
       "</style>\n",
       "<table border=\"1\" class=\"dataframe\">\n",
       "  <thead>\n",
       "    <tr style=\"text-align: right;\">\n",
       "      <th></th>\n",
       "      <th>date</th>\n",
       "    </tr>\n",
       "  </thead>\n",
       "  <tbody>\n",
       "    <tr>\n",
       "      <th>0</th>\n",
       "      <td>2019-01-01</td>\n",
       "    </tr>\n",
       "    <tr>\n",
       "      <th>1</th>\n",
       "      <td>2019-01-02</td>\n",
       "    </tr>\n",
       "    <tr>\n",
       "      <th>2</th>\n",
       "      <td>2019-01-03</td>\n",
       "    </tr>\n",
       "  </tbody>\n",
       "</table>\n",
       "</div>"
      ],
      "text/plain": [
       "        date\n",
       "0 2019-01-01\n",
       "1 2019-01-02\n",
       "2 2019-01-03"
      ]
     },
     "execution_count": 29,
     "metadata": {},
     "output_type": "execute_result"
    }
   ],
   "source": [
    "# Create Dataframe of Date\n",
    "df_date = pd.DataFrame(df['date'])\n",
    "df_date.head(3)"
   ]
  },
  {
   "cell_type": "code",
   "execution_count": 30,
   "metadata": {
    "id": "uDXnQd2wbFmw"
   },
   "outputs": [],
   "source": [
    "# Instantiate the Feature Engineering Object\n",
    "dtf = DatetimeFeatures(features_to_extract = [\"year\", \"month\", \"quarter\",\"day_of_week\",\"weekend\"])"
   ]
  },
  {
   "cell_type": "code",
   "execution_count": 31,
   "metadata": {
    "id": "WY6vLxz2vpnh"
   },
   "outputs": [],
   "source": [
    "# Fit and Transform on Date Dataframe\n",
    "df_date = dtf.fit_transform(df_date)"
   ]
  },
  {
   "cell_type": "code",
   "execution_count": 32,
   "metadata": {
    "id": "OiyEtDhPv562"
   },
   "outputs": [],
   "source": [
    "# Add Features to Original Dataframe\n",
    "df = pd.concat([df, df_date], axis=1)"
   ]
  },
  {
   "cell_type": "code",
   "execution_count": 33,
   "metadata": {
    "id": "uuN3tDCl1PfO"
   },
   "outputs": [],
   "source": [
    "# Drop Date Column\n",
    "df = df.drop('date',axis = 1)"
   ]
  },
  {
   "cell_type": "code",
   "execution_count": 34,
   "metadata": {
    "colab": {
     "base_uri": "https://localhost:8080/"
    },
    "id": "0osQzctQ1xM2",
    "outputId": "b7621b5e-8b3a-4280-db36-c94dd37076c2"
   },
   "outputs": [
    {
     "name": "stdout",
     "output_type": "stream",
     "text": [
      "<class 'pandas.core.frame.DataFrame'>\n",
      "Int64Index: 1826 entries, 0 to 1825\n",
      "Data columns (total 9 columns):\n",
      " #   Column            Non-Null Count  Dtype  \n",
      "---  ------            --------------  -----  \n",
      " 0   likes             1826 non-null   int64  \n",
      " 1   dislikes          1826 non-null   int64  \n",
      " 2   followers         1826 non-null   int64  \n",
      " 3   price             1826 non-null   float64\n",
      " 4   date_year         1826 non-null   int64  \n",
      " 5   date_month        1826 non-null   int64  \n",
      " 6   date_quarter      1826 non-null   int64  \n",
      " 7   date_day_of_week  1826 non-null   int64  \n",
      " 8   date_weekend      1826 non-null   int64  \n",
      "dtypes: float64(1), int64(8)\n",
      "memory usage: 142.7 KB\n"
     ]
    }
   ],
   "source": [
    "# Check Datatypes\n",
    "df.info()"
   ]
  },
  {
   "cell_type": "code",
   "execution_count": 35,
   "metadata": {
    "colab": {
     "base_uri": "https://localhost:8080/",
     "height": 359
    },
    "id": "ig6wE08N2IUz",
    "outputId": "f5dd8eb4-6f5d-48d2-852f-0450d2d16904"
   },
   "outputs": [
    {
     "data": {
      "image/png": "[encoded data removed]",
      "text/plain": [
       "<Figure size 432x288 with 1 Axes>"
      ]
     },
     "metadata": {},
     "output_type": "display_data"
    }
   ],
   "source": [
    "# Visualize and Sort all features based on correlation to target\n",
    "\n",
    "bars = df.corr()['price'].sort_values(ascending=False).plot(kind='bar')"
   ]
  },
  {
   "cell_type": "code",
   "execution_count": 36,
   "metadata": {
    "colab": {
     "base_uri": "https://localhost:8080/",
     "height": 472
    },
    "id": "chV1LRsA2SNC",
    "outputId": "a1323a29-40c0-4fc7-ab90-d6b947f5b8dc"
   },
   "outputs": [
    {
     "data": {
      "image/png": "[encoded data removed]",
      "text/plain": [
       "<Figure size 1080x432 with 2 Axes>"
      ]
     },
     "metadata": {},
     "output_type": "display_data"
    }
   ],
   "source": [
    "# Visualize heatmap of correlations between all columns\n",
    "plt.figure(figsize=(15,6))\n",
    "heatmap = sns.heatmap(df.corr(), annot=True)"
   ]
  },
  {
   "cell_type": "code",
   "execution_count": 38,
   "metadata": {
    "id": "vQhQSK7M23RI"
   },
   "outputs": [],
   "source": [
    "# Drop Day of Week and Month, since these are highly correlated with other date time features\n",
    "df = df.drop(['date_year','date_month','date_day_of_week'],axis=1)"
   ]
  },
  {
   "cell_type": "markdown",
   "metadata": {
    "id": "clrY54FR8-3a"
   },
   "source": [
    "#### b) Train-Test Split"
   ]
  },
  {
   "cell_type": "code",
   "execution_count": 39,
   "metadata": {
    "id": "ih1eWOx2YED5"
   },
   "outputs": [],
   "source": [
    "# Create traning and testing datasets\n",
    "x = df.drop('price',axis=1)\n",
    "y = df['price']\n",
    "\n",
    "x_train, x_test, y_train, y_test = train_test_split(x, y, test_size=0.3, random_state=0)"
   ]
  },
  {
   "cell_type": "markdown",
   "metadata": {
    "id": "Exb4p2S0-v5i"
   },
   "source": [
    "#### c) Scale Numeric Features"
   ]
  },
  {
   "cell_type": "code",
   "execution_count": 40,
   "metadata": {
    "id": "ht4H08oN9Enx"
   },
   "outputs": [],
   "source": [
    "# Instantiate Column Transformer to apply Standard Scaler to relevant columns and ignore/passthrough remaning date time columns\n",
    "ct = ColumnTransformer([(\"scaler\", StandardScaler(),['likes','dislikes','followers'])],\n",
    "                        remainder = 'passthrough') "
   ]
  },
  {
   "cell_type": "code",
   "execution_count": 41,
   "metadata": {
    "id": "h6QfjnBX8xuc"
   },
   "outputs": [],
   "source": [
    "# Apply Scaler to Numeric Columns\n",
    "  # Fit based on training data only to avoid leakage\n",
    "  # Transform on both training and test data\n",
    "x_train_sc = ct.fit_transform(x_train)\n",
    "x_test_sc = ct.transform(x_test)"
   ]
  },
  {
   "cell_type": "markdown",
   "metadata": {
    "id": "drgfUTMmsKxy"
   },
   "source": [
    "---"
   ]
  },
  {
   "cell_type": "markdown",
   "metadata": {
    "id": "O_zwfYcFsHYP"
   },
   "source": [
    "### 5) Train and Test Regression Models"
   ]
  },
  {
   "cell_type": "code",
   "execution_count": 42,
   "metadata": {
    "id": "OqhNrFoTYEKX"
   },
   "outputs": [],
   "source": [
    "# Creating a Dictionary of Regressors\n",
    "  #random state added to applicable regressors\n",
    "  #max_iter increased for some regressors to improve fit\n",
    "\n",
    "regressors = {\n",
    "    \"XGBRegressor\": XGBRegressor(random_state = 17),\n",
    "    \"RandomForestRegressor\": RandomForestRegressor(random_state = 17),\n",
    "    \"DecisionTreeRegressor\": DecisionTreeRegressor(random_state = 17),\n",
    "    \"GaussianProcessRegressor\": GaussianProcessRegressor(random_state = 17),\n",
    "    \"SVR\": SVR(),\n",
    "    \"NuSVR\": NuSVR(),\n",
    "    \"Ridge\":Ridge(random_state = 17),\n",
    "    \"Lars\": Lars(normalize=False,random_state = 17),\n",
    "    \"TheilSenRegressor\": TheilSenRegressor(random_state = 17),\n",
    "    \"HuberRegressor\": HuberRegressor(max_iter= 400),\n",
    "    \"PassiveAggressiveRegressor\": PassiveAggressiveRegressor(max_iter = 2000,random_state = 17),\n",
    "    \"ARDRegression\": ARDRegression(),\n",
    "    \"BayesianRidge\": BayesianRidge(),\n",
    "    \"ElasticNet\": ElasticNet(random_state = 17),\n",
    "    \"OrthogonalMatchingPursuit\": OrthogonalMatchingPursuit(normalize=False),\n",
    "}"
   ]
  },
  {
   "cell_type": "code",
   "execution_count": 43,
   "metadata": {
    "colab": {
     "base_uri": "https://localhost:8080/"
    },
    "id": "MFLsNUaLYEOb",
    "outputId": "22c8deb7-66ac-43fd-ebed-907ca52ecdde"
   },
   "outputs": [
    {
     "name": "stdout",
     "output_type": "stream",
     "text": [
      "* XGBRegressor\n",
      "* RandomForestRegressor\n",
      "* DecisionTreeRegressor\n",
      "* GaussianProcessRegressor\n",
      "* SVR\n",
      "* NuSVR\n",
      "* Ridge\n",
      "* Lars\n",
      "* TheilSenRegressor\n",
      "* HuberRegressor\n",
      "* PassiveAggressiveRegressor\n",
      "* ARDRegression\n",
      "* BayesianRidge\n",
      "* ElasticNet\n",
      "* OrthogonalMatchingPursuit\n"
     ]
    }
   ],
   "source": [
    "# Testing all Regressors\n",
    "\n",
    "# Creating blank dataframe for performance metrics\n",
    "df_models = pd.DataFrame(columns=['model', 'run_time', 'rmse','cross_val_rmse_average','cross_val_rmse_scores'])\n",
    "\n",
    "#looping through dictionary of regressors\n",
    "for key in regressors:\n",
    "\n",
    "    # printing progress\n",
    "    print('*',key) \n",
    "\n",
    "    # recording run time\n",
    "    start_time = time.time() \n",
    "\n",
    "    # instantiating regressor\n",
    "    regressor = regressors[key] \n",
    "\n",
    "    # training regressor on training data\n",
    "    model = regressor.fit(x_train_sc, y_train) \n",
    "\n",
    "    # predicting on testing data\n",
    "    y_pred = model.predict(x_test_sc) \n",
    "\n",
    "    # obtaining scores from cross validation with 10 folds based on rmse\n",
    "    scores = cross_val_score(model, \n",
    "                             x_train_sc, \n",
    "                             y_train,\n",
    "                             scoring= 'neg_root_mean_squared_error',\n",
    "                             cv=10) \n",
    "\n",
    "    # storing performance information in a dictionary\n",
    "    row = {'model': key,\n",
    "           'run_time': format(round((time.time() - start_time)/60,2)),  \n",
    "           'rmse': round(np.sqrt(mean_squared_error(y_test, y_pred)),4),\n",
    "           'cross_val_rmse_average': abs(scores.mean()), #average of cross validation scores\n",
    "           'cross_val_rmse_scores': scores #list of cross validation scores\n",
    "    }\n",
    "\n",
    "    # adding performance information dictionary to dataframe\n",
    "    df_models = df_models.append(row, ignore_index=True)"
   ]
  },
  {
   "cell_type": "code",
   "execution_count": 44,
   "metadata": {
    "colab": {
     "base_uri": "https://localhost:8080/",
     "height": 428
    },
    "id": "gqrOIDb5YEVf",
    "outputId": "2679b1c8-4631-42c6-e415-75f668c9f227"
   },
   "outputs": [
    {
     "data": {
      "text/html": [
       "<div>\n",
       "<style scoped>\n",
       "    .dataframe tbody tr th:only-of-type {\n",
       "        vertical-align: middle;\n",
       "    }\n",
       "\n",
       "    .dataframe tbody tr th {\n",
       "        vertical-align: top;\n",
       "    }\n",
       "\n",
       "    .dataframe thead th {\n",
       "        text-align: right;\n",
       "    }\n",
       "</style>\n",
       "<table border=\"1\" class=\"dataframe\">\n",
       "  <thead>\n",
       "    <tr style=\"text-align: right;\">\n",
       "      <th></th>\n",
       "      <th>model</th>\n",
       "      <th>run_time</th>\n",
       "      <th>rmse</th>\n",
       "      <th>cross_val_rmse_average</th>\n",
       "      <th>cross_val_rmse_scores</th>\n",
       "    </tr>\n",
       "  </thead>\n",
       "  <tbody>\n",
       "    <tr>\n",
       "      <th>3</th>\n",
       "      <td>GaussianProcessRegressor</td>\n",
       "      <td>0.02</td>\n",
       "      <td>0.0285</td>\n",
       "      <td>0.0429</td>\n",
       "      <td>[-0.046467797880288673, -0.021778677784527363,...</td>\n",
       "    </tr>\n",
       "    <tr>\n",
       "      <th>1</th>\n",
       "      <td>RandomForestRegressor</td>\n",
       "      <td>0.03</td>\n",
       "      <td>17.8457</td>\n",
       "      <td>20.2473</td>\n",
       "      <td>[-20.073349991372204, -20.68620566344448, -20....</td>\n",
       "    </tr>\n",
       "    <tr>\n",
       "      <th>2</th>\n",
       "      <td>DecisionTreeRegressor</td>\n",
       "      <td>0.0</td>\n",
       "      <td>30.6557</td>\n",
       "      <td>36.6443</td>\n",
       "      <td>[-44.11957085934215, -28.292395580018376, -36....</td>\n",
       "    </tr>\n",
       "    <tr>\n",
       "      <th>0</th>\n",
       "      <td>XGBRegressor</td>\n",
       "      <td>0.01</td>\n",
       "      <td>33.7459</td>\n",
       "      <td>34.0106</td>\n",
       "      <td>[-43.79875340392506, -28.78420425828255, -35.7...</td>\n",
       "    </tr>\n",
       "    <tr>\n",
       "      <th>8</th>\n",
       "      <td>TheilSenRegressor</td>\n",
       "      <td>0.08</td>\n",
       "      <td>1688.0454</td>\n",
       "      <td>1669.2243</td>\n",
       "      <td>[-1540.7795911966994, -1666.4610030537751, -18...</td>\n",
       "    </tr>\n",
       "    <tr>\n",
       "      <th>11</th>\n",
       "      <td>ARDRegression</td>\n",
       "      <td>0.0</td>\n",
       "      <td>1690.1930</td>\n",
       "      <td>1656.0079</td>\n",
       "      <td>[-1559.100518325659, -1667.3042975453372, -181...</td>\n",
       "    </tr>\n",
       "    <tr>\n",
       "      <th>12</th>\n",
       "      <td>BayesianRidge</td>\n",
       "      <td>0.0</td>\n",
       "      <td>1690.9670</td>\n",
       "      <td>1656.9868</td>\n",
       "      <td>[-1562.9994695329474, -1666.7312441087151, -18...</td>\n",
       "    </tr>\n",
       "    <tr>\n",
       "      <th>7</th>\n",
       "      <td>Lars</td>\n",
       "      <td>0.0</td>\n",
       "      <td>1701.2419</td>\n",
       "      <td>1667.9916</td>\n",
       "      <td>[-1561.1413082823776, -1676.838470137032, -185...</td>\n",
       "    </tr>\n",
       "    <tr>\n",
       "      <th>6</th>\n",
       "      <td>Ridge</td>\n",
       "      <td>0.0</td>\n",
       "      <td>1724.0129</td>\n",
       "      <td>1670.0818</td>\n",
       "      <td>[-1613.9955366370605, -1690.4498428927557, -17...</td>\n",
       "    </tr>\n",
       "    <tr>\n",
       "      <th>10</th>\n",
       "      <td>PassiveAggressiveRegressor</td>\n",
       "      <td>0.01</td>\n",
       "      <td>1791.8628</td>\n",
       "      <td>1822.6003</td>\n",
       "      <td>[-1685.7187849409434, -1980.9459610830836, -21...</td>\n",
       "    </tr>\n",
       "    <tr>\n",
       "      <th>9</th>\n",
       "      <td>HuberRegressor</td>\n",
       "      <td>0.0</td>\n",
       "      <td>1867.0169</td>\n",
       "      <td>1878.6106</td>\n",
       "      <td>[-1731.685717887742, -1956.739613257819, -2108...</td>\n",
       "    </tr>\n",
       "    <tr>\n",
       "      <th>14</th>\n",
       "      <td>OrthogonalMatchingPursuit</td>\n",
       "      <td>0.0</td>\n",
       "      <td>1900.5570</td>\n",
       "      <td>1770.7834</td>\n",
       "      <td>[-1798.9687425601082, -1809.4844035550732, -18...</td>\n",
       "    </tr>\n",
       "    <tr>\n",
       "      <th>13</th>\n",
       "      <td>ElasticNet</td>\n",
       "      <td>0.0</td>\n",
       "      <td>2419.7823</td>\n",
       "      <td>2312.5911</td>\n",
       "      <td>[-2309.1416474806006, -2419.707210996545, -234...</td>\n",
       "    </tr>\n",
       "    <tr>\n",
       "      <th>5</th>\n",
       "      <td>NuSVR</td>\n",
       "      <td>0.01</td>\n",
       "      <td>8859.6261</td>\n",
       "      <td>8786.8347</td>\n",
       "      <td>[-8308.529895576055, -8645.078877849099, -8983...</td>\n",
       "    </tr>\n",
       "    <tr>\n",
       "      <th>4</th>\n",
       "      <td>SVR</td>\n",
       "      <td>0.01</td>\n",
       "      <td>8881.5870</td>\n",
       "      <td>8686.7421</td>\n",
       "      <td>[-8089.816695400825, -8532.6605332501, -9003.0...</td>\n",
       "    </tr>\n",
       "  </tbody>\n",
       "</table>\n",
       "</div>"
      ],
      "text/plain": [
       "                         model run_time      rmse  cross_val_rmse_average  \\\n",
       "3     GaussianProcessRegressor     0.02    0.0285                  0.0429   \n",
       "1        RandomForestRegressor     0.03   17.8457                 20.2473   \n",
       "2        DecisionTreeRegressor      0.0   30.6557                 36.6443   \n",
       "0                 XGBRegressor     0.01   33.7459                 34.0106   \n",
       "8            TheilSenRegressor     0.08 1688.0454               1669.2243   \n",
       "11               ARDRegression      0.0 1690.1930               1656.0079   \n",
       "12               BayesianRidge      0.0 1690.9670               1656.9868   \n",
       "7                         Lars      0.0 1701.2419               1667.9916   \n",
       "6                        Ridge      0.0 1724.0129               1670.0818   \n",
       "10  PassiveAggressiveRegressor     0.01 1791.8628               1822.6003   \n",
       "9               HuberRegressor      0.0 1867.0169               1878.6106   \n",
       "14   OrthogonalMatchingPursuit      0.0 1900.5570               1770.7834   \n",
       "13                  ElasticNet      0.0 2419.7823               2312.5911   \n",
       "5                        NuSVR     0.01 8859.6261               8786.8347   \n",
       "4                          SVR     0.01 8881.5870               8686.7421   \n",
       "\n",
       "                                cross_val_rmse_scores  \n",
       "3   [-0.046467797880288673, -0.021778677784527363,...  \n",
       "1   [-20.073349991372204, -20.68620566344448, -20....  \n",
       "2   [-44.11957085934215, -28.292395580018376, -36....  \n",
       "0   [-43.79875340392506, -28.78420425828255, -35.7...  \n",
       "8   [-1540.7795911966994, -1666.4610030537751, -18...  \n",
       "11  [-1559.100518325659, -1667.3042975453372, -181...  \n",
       "12  [-1562.9994695329474, -1666.7312441087151, -18...  \n",
       "7   [-1561.1413082823776, -1676.838470137032, -185...  \n",
       "6   [-1613.9955366370605, -1690.4498428927557, -17...  \n",
       "10  [-1685.7187849409434, -1980.9459610830836, -21...  \n",
       "9   [-1731.685717887742, -1956.739613257819, -2108...  \n",
       "14  [-1798.9687425601082, -1809.4844035550732, -18...  \n",
       "13  [-2309.1416474806006, -2419.707210996545, -234...  \n",
       "5   [-8308.529895576055, -8645.078877849099, -8983...  \n",
       "4   [-8089.816695400825, -8532.6605332501, -9003.0...  "
      ]
     },
     "execution_count": 44,
     "metadata": {},
     "output_type": "execute_result"
    }
   ],
   "source": [
    "# Order Performance Results of All Models\n",
    "\n",
    "df_models.head(20).sort_values(by='rmse', ascending=True)"
   ]
  },
  {
   "cell_type": "markdown",
   "metadata": {
    "id": "U8fhlTZSsdfb"
   },
   "source": [
    "---"
   ]
  },
  {
   "cell_type": "markdown",
   "metadata": {
    "id": "RKnLJ3a8sWCD"
   },
   "source": [
    "### 6) Evaluate Best Model"
   ]
  },
  {
   "cell_type": "code",
   "execution_count": 45,
   "metadata": {
    "id": "deCzmCvzDXUO"
   },
   "outputs": [],
   "source": [
    "# Train the best model and Predict on the Test Set\n",
    "\n",
    "regressor = GaussianProcessRegressor(random_state = 17)\n",
    "model = regressor.fit(x_train_sc, y_train)\n",
    "y_pred = model.predict(x_test_sc)"
   ]
  },
  {
   "cell_type": "code",
   "execution_count": 46,
   "metadata": {
    "id": "HjUdGjbCRsOA"
   },
   "outputs": [],
   "source": [
    "# Defining a function to get the model's key metrics\n",
    "\n",
    "def get_metrics(y_testdata,y_predicteddata):\n",
    "    MAE = round(mean_absolute_error(y_testdata,y_predicteddata),4)\n",
    "    MSE = round(mean_squared_error(y_testdata,y_predicteddata),4)\n",
    "    RMSE = round(np.sqrt(MSE),4)\n",
    "    R2 = round(r2_score(y_testdata,y_predicteddata),4)\n",
    "    \n",
    "    print(f'Mean absolute error = {MAE}')\n",
    "    print(f'Mean squared error = {MSE}')\n",
    "    print(f'Root mean squared error = {RMSE}')\n",
    "    print(f'R Squared = {R2}')\n",
    "    \n",
    "    return MAE, MSE, RMSE, R2"
   ]
  },
  {
   "cell_type": "code",
   "execution_count": 47,
   "metadata": {
    "colab": {
     "base_uri": "https://localhost:8080/"
    },
    "id": "NhmtrALDR1Uk",
    "outputId": "6bb38bad-7c8a-4fca-e39d-1982ffebf04b"
   },
   "outputs": [
    {
     "name": "stdout",
     "output_type": "stream",
     "text": [
      "Mean absolute error = 0.0113\n",
      "Mean squared error = 0.0008\n",
      "Root mean squared error = 0.0283\n",
      "R Squared = 1.0\n"
     ]
    }
   ],
   "source": [
    "# Applying the function to get key metrics\n",
    "get_metrics(y_test,y_pred);"
   ]
  },
  {
   "cell_type": "code",
   "execution_count": 48,
   "metadata": {
    "colab": {
     "base_uri": "https://localhost:8080/",
     "height": 405
    },
    "id": "VbuS_KxQEJmv",
    "outputId": "981b38ec-4d84-4ce6-c1c9-a787e38b2cf6"
   },
   "outputs": [
    {
     "data": {
      "image/png": "[encoded data removed]",
      "text/plain": [
       "<Figure size 1080x432 with 1 Axes>"
      ]
     },
     "metadata": {},
     "output_type": "display_data"
    }
   ],
   "source": [
    "# Distribution plot of actual and predicted values\n",
    "\n",
    "plt.figure(figsize=(15,6))\n",
    "ax1 = sns.kdeplot(y_test, color=\"r\", label=\"Actual Price\")\n",
    "sns.kdeplot(y_pred, color=\"b\", label=\"Fitted Price\" , ax=ax1)\n",
    "sns.set(rc={\"figure.figsize\":(6, 4)})\n",
    "plt.legend()\n",
    "plt.show();"
   ]
  }
 ],
 "metadata": {
  "accelerator": "TPU",
  "colab": {
   "provenance": []
  },
  "gpuClass": "standard",
  "kernelspec": {
   "display_name": "Python 3",
   "language": "python",
   "name": "python3"
  },
  "language_info": {
   "codemirror_mode": {
    "name": "ipython",
    "version": 3
   },
   "file_extension": ".py",
   "mimetype": "text/x-python",
   "name": "python",
   "nbconvert_exporter": "python",
   "pygments_lexer": "ipython3",
   "version": "3.8.5"
  }
 },
 "nbformat": 4,
 "nbformat_minor": 1
}
