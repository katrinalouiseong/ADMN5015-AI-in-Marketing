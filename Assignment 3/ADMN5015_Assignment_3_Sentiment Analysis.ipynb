{
 "cells": [
  {
   "cell_type": "markdown",
   "id": "987e4dd3",
   "metadata": {},
   "source": [
    "---"
   ]
  },
  {
   "cell_type": "markdown",
   "id": "7dd9bd02",
   "metadata": {},
   "source": [
    "<center><h1>ADMN5015 Artificial Intelligence in Marketing</h1>\n",
    "<h2>Assignment 3: Sentiment Analysis\n",
    "<h3>Katrina Ong"
   ]
  },
  {
   "cell_type": "markdown",
   "id": "0760a46a",
   "metadata": {},
   "source": [
    "---"
   ]
  },
  {
   "cell_type": "markdown",
   "id": "62d15b94",
   "metadata": {},
   "source": [
    "**Summary**\n",
    "\n",
    "This project aims to conduct a sentiment analysis on Twitter tweets using the Google Cloud Platform (GCP).\n",
    "\n",
    "In particular, this notebook will be analyzing the most recent 100 tweets by the [Tim Hortons](https://twitter.com/TimHortons) (as of January 30, 11:38PM) as a means of evaluating the overall sentiment that they have been conveying through their social media presence in Twitter.\n",
    "\n",
    "For this purpose, the following steps are implemented in this notebook: \n",
    "1. [Import Packages](#1\\)-Import-Packages)\n",
    "2. [Source the Data (using Twitter's API)](#2\\)-Source-the-Data-(using-Twitter-API))\n",
    "3. [Prepare the Data (Feature Engineering)](#3\\)-Prepare-the-Data)\n",
    "4. [Use GGP to conduct Sentiment Analysis](#4\\)-Use-GCP-to-Conduct-Sentiment-Analysis)\n",
    "5. [Summarize Sentiment Results](#5\\)-Summarize-Sentiment-Results) - includes visualizations\n",
    "\n",
    "More details can be found in each line of code below."
   ]
  },
  {
   "cell_type": "markdown",
   "id": "1318711e",
   "metadata": {},
   "source": [
    "---"
   ]
  },
  {
   "cell_type": "markdown",
   "id": "cd159dd4",
   "metadata": {},
   "source": [
    "### 1) Import Packages"
   ]
  },
  {
   "cell_type": "code",
   "execution_count": 1,
   "id": "63e093aa",
   "metadata": {},
   "outputs": [],
   "source": [
    "# Importing Standard packages\n",
    "import numpy as np\n",
    "from scipy import stats\n",
    "import pandas as pd\n",
    "import matplotlib.pyplot as plt\n",
    "import seaborn as sns\n",
    "import missingno as msno\n",
    "import random\n",
    "import os"
   ]
  },
  {
   "cell_type": "code",
   "execution_count": 2,
   "id": "b8fac66a",
   "metadata": {},
   "outputs": [],
   "source": [
    "# Set Options for display\n",
    "pd.options.display.max_rows = 1000\n",
    "pd.options.display.max_columns = 100\n",
    "pd.options.display.float_format = '{:.4f}'.format\n",
    "sns.set_style(\"whitegrid\")\n",
    "#sns.set_context(\"paper\", font_scale = 2)\n",
    "\n",
    "%matplotlib inline\n",
    "\n",
    "import warnings\n",
    "warnings.filterwarnings(\"ignore\")\n",
    "warnings.simplefilter(action='ignore', category=FutureWarning)\n",
    "\n",
    "pd.options.mode.chained_assignment = None # default='warn'"
   ]
  },
  {
   "cell_type": "code",
   "execution_count": 3,
   "id": "b895cd4d",
   "metadata": {},
   "outputs": [],
   "source": [
    "# Importing packages for connecting to Twitter API\n",
    "import requests\n",
    "import json\n",
    "import ast\n",
    "import yaml"
   ]
  },
  {
   "cell_type": "code",
   "execution_count": 4,
   "id": "500cae1e",
   "metadata": {},
   "outputs": [],
   "source": [
    "# Importing packages for data preparation\n",
    "import re"
   ]
  },
  {
   "cell_type": "code",
   "execution_count": 5,
   "id": "5ba73131",
   "metadata": {},
   "outputs": [],
   "source": [
    "# Importing NLP packages for Google Cloud\n",
    "from google.cloud import language_v1"
   ]
  },
  {
   "cell_type": "code",
   "execution_count": 6,
   "id": "8de870c4",
   "metadata": {},
   "outputs": [],
   "source": [
    "# Importing NLP package for text cleaning\n",
    "import nltk\n",
    "from nltk.corpus import stopwords"
   ]
  },
  {
   "cell_type": "code",
   "execution_count": 7,
   "id": "3d14d31e",
   "metadata": {},
   "outputs": [],
   "source": [
    "# Importing word cloud visualization package\n",
    "from wordcloud import WordCloud "
   ]
  },
  {
   "cell_type": "markdown",
   "id": "805585a3",
   "metadata": {},
   "source": [
    "---"
   ]
  },
  {
   "cell_type": "markdown",
   "id": "cc08ed54",
   "metadata": {},
   "source": [
    "### 2) Source the Data (using Twitter API)"
   ]
  },
  {
   "cell_type": "code",
   "execution_count": 8,
   "id": "00622880",
   "metadata": {},
   "outputs": [],
   "source": [
    "# Defining a function to create a Twitter URL for a specific user based on their handle\n",
    "def create_twitter_url(handle):\n",
    "    max_results = 100\n",
    "    mrf = \"max_results={}\".format(max_results)\n",
    "    q = \"query=from:{}\".format(handle)\n",
    "    url = \"https://api.twitter.com/2/tweets/search/recent?{}&{}\".format(\n",
    "        mrf, q\n",
    "    )\n",
    "    return url"
   ]
  },
  {
   "cell_type": "code",
   "execution_count": 9,
   "id": "e0bae3f7",
   "metadata": {},
   "outputs": [],
   "source": [
    "# Defining a function to open yaml file with credentials\n",
    "def process_yaml():\n",
    "    with open(\"config.yaml\") as file:\n",
    "        return yaml.safe_load(file)"
   ]
  },
  {
   "cell_type": "code",
   "execution_count": 10,
   "id": "412c1faf",
   "metadata": {},
   "outputs": [],
   "source": [
    "# Defining a function to obtain the bearer token \n",
    "def create_bearer_token(data):\n",
    "    return data[\"search_tweets_api\"][\"bearer_token\"]"
   ]
  },
  {
   "cell_type": "code",
   "execution_count": 11,
   "id": "4851820e",
   "metadata": {},
   "outputs": [],
   "source": [
    "# Defining a function to obtain tweets using bearer token and Twitter URL\n",
    "def twitter_auth_and_connect(bearer_token, url):\n",
    "    headers = {\"Authorization\": \"Bearer {}\".format(bearer_token)}\n",
    "    response = requests.request(\"GET\", url, headers=headers)\n",
    "    return response.json()"
   ]
  },
  {
   "cell_type": "code",
   "execution_count": 12,
   "id": "8a19b109",
   "metadata": {},
   "outputs": [],
   "source": [
    "# Defining a function to get tweets from a specific user based on their handle\n",
    "def get_tweets(handle):\n",
    "    url = create_twitter_url(handle)\n",
    "    data = process_yaml()\n",
    "    bearer_token = create_bearer_token(data)\n",
    "    res_json = twitter_auth_and_connect(bearer_token, url)\n",
    "    \n",
    "    return res_json"
   ]
  },
  {
   "cell_type": "code",
   "execution_count": 13,
   "id": "5d07fa9c",
   "metadata": {},
   "outputs": [],
   "source": [
    "# Define twitter handle to check\n",
    "twitter_handle = \"TimHortons\""
   ]
  },
  {
   "cell_type": "code",
   "execution_count": 14,
   "id": "c9b27905",
   "metadata": {},
   "outputs": [],
   "source": [
    "# Create a dataframe using the json file containing tweets\n",
    "df = pd.DataFrame.from_dict(get_tweets(twitter_handle)['data'])"
   ]
  },
  {
   "cell_type": "code",
   "execution_count": 15,
   "id": "a1264576",
   "metadata": {},
   "outputs": [
    {
     "data": {
      "text/html": [
       "<div>\n",
       "<style scoped>\n",
       "    .dataframe tbody tr th:only-of-type {\n",
       "        vertical-align: middle;\n",
       "    }\n",
       "\n",
       "    .dataframe tbody tr th {\n",
       "        vertical-align: top;\n",
       "    }\n",
       "\n",
       "    .dataframe thead th {\n",
       "        text-align: right;\n",
       "    }\n",
       "</style>\n",
       "<table border=\"1\" class=\"dataframe\">\n",
       "  <thead>\n",
       "    <tr style=\"text-align: right;\">\n",
       "      <th></th>\n",
       "      <th>edit_history_tweet_ids</th>\n",
       "      <th>id</th>\n",
       "      <th>text</th>\n",
       "    </tr>\n",
       "  </thead>\n",
       "  <tbody>\n",
       "    <tr>\n",
       "      <th>0</th>\n",
       "      <td>[1620267932214231040]</td>\n",
       "      <td>1620267932214231040</td>\n",
       "      <td>@jwindori 🥺 ❤️</td>\n",
       "    </tr>\n",
       "    <tr>\n",
       "      <th>1</th>\n",
       "      <td>[1620264491152801792]</td>\n",
       "      <td>1620264491152801792</td>\n",
       "      <td>@aruun Yay! 🙌</td>\n",
       "    </tr>\n",
       "    <tr>\n",
       "      <th>2</th>\n",
       "      <td>[1620258259742474241]</td>\n",
       "      <td>1620258259742474241</td>\n",
       "      <td>@MissBurbidge Yum! Which ones did you get? 😋</td>\n",
       "    </tr>\n",
       "  </tbody>\n",
       "</table>\n",
       "</div>"
      ],
      "text/plain": [
       "  edit_history_tweet_ids                   id  \\\n",
       "0  [1620267932214231040]  1620267932214231040   \n",
       "1  [1620264491152801792]  1620264491152801792   \n",
       "2  [1620258259742474241]  1620258259742474241   \n",
       "\n",
       "                                           text  \n",
       "0                                @jwindori 🥺 ❤️  \n",
       "1                                 @aruun Yay! 🙌  \n",
       "2  @MissBurbidge Yum! Which ones did you get? 😋  "
      ]
     },
     "execution_count": 15,
     "metadata": {},
     "output_type": "execute_result"
    }
   ],
   "source": [
    "# Preview Dataframe\n",
    "df.head(3)"
   ]
  },
  {
   "cell_type": "code",
   "execution_count": 16,
   "id": "46565da2",
   "metadata": {},
   "outputs": [
    {
     "data": {
      "text/html": [
       "<div>\n",
       "<style scoped>\n",
       "    .dataframe tbody tr th:only-of-type {\n",
       "        vertical-align: middle;\n",
       "    }\n",
       "\n",
       "    .dataframe tbody tr th {\n",
       "        vertical-align: top;\n",
       "    }\n",
       "\n",
       "    .dataframe thead th {\n",
       "        text-align: right;\n",
       "    }\n",
       "</style>\n",
       "<table border=\"1\" class=\"dataframe\">\n",
       "  <thead>\n",
       "    <tr style=\"text-align: right;\">\n",
       "      <th></th>\n",
       "      <th>edit_history_tweet_ids</th>\n",
       "      <th>id</th>\n",
       "      <th>text</th>\n",
       "    </tr>\n",
       "  </thead>\n",
       "  <tbody>\n",
       "    <tr>\n",
       "      <th>97</th>\n",
       "      <td>[1619322799855734784]</td>\n",
       "      <td>1619322799855734784</td>\n",
       "      <td>@MiniKayTee Thank you for reaching out to us, ...</td>\n",
       "    </tr>\n",
       "    <tr>\n",
       "      <th>98</th>\n",
       "      <td>[1619309935740715009]</td>\n",
       "      <td>1619309935740715009</td>\n",
       "      <td>@LinG74394488 Thank you for reaching out to us...</td>\n",
       "    </tr>\n",
       "    <tr>\n",
       "      <th>99</th>\n",
       "      <td>[1619277519101870080]</td>\n",
       "      <td>1619277519101870080</td>\n",
       "      <td>@valentino_nora Thanks for reaching out. We’re...</td>\n",
       "    </tr>\n",
       "  </tbody>\n",
       "</table>\n",
       "</div>"
      ],
      "text/plain": [
       "   edit_history_tweet_ids                   id  \\\n",
       "97  [1619322799855734784]  1619322799855734784   \n",
       "98  [1619309935740715009]  1619309935740715009   \n",
       "99  [1619277519101870080]  1619277519101870080   \n",
       "\n",
       "                                                 text  \n",
       "97  @MiniKayTee Thank you for reaching out to us, ...  \n",
       "98  @LinG74394488 Thank you for reaching out to us...  \n",
       "99  @valentino_nora Thanks for reaching out. We’re...  "
      ]
     },
     "execution_count": 16,
     "metadata": {},
     "output_type": "execute_result"
    }
   ],
   "source": [
    "# Preview Dataframe\n",
    "df.tail(3)"
   ]
  },
  {
   "cell_type": "markdown",
   "id": "f2477e2f",
   "metadata": {},
   "source": [
    "---"
   ]
  },
  {
   "cell_type": "markdown",
   "id": "e3355226",
   "metadata": {},
   "source": [
    "### 3) Prepare the Data"
   ]
  },
  {
   "cell_type": "code",
   "execution_count": 17,
   "id": "cf4da698",
   "metadata": {},
   "outputs": [],
   "source": [
    "# Drop Irrelevant columns\n",
    "df = df.drop('edit_history_tweet_ids', axis = 1)"
   ]
  },
  {
   "cell_type": "code",
   "execution_count": 18,
   "id": "337fc0f2",
   "metadata": {},
   "outputs": [
    {
     "data": {
      "text/html": [
       "<div>\n",
       "<style scoped>\n",
       "    .dataframe tbody tr th:only-of-type {\n",
       "        vertical-align: middle;\n",
       "    }\n",
       "\n",
       "    .dataframe tbody tr th {\n",
       "        vertical-align: top;\n",
       "    }\n",
       "\n",
       "    .dataframe thead th {\n",
       "        text-align: right;\n",
       "    }\n",
       "</style>\n",
       "<table border=\"1\" class=\"dataframe\">\n",
       "  <thead>\n",
       "    <tr style=\"text-align: right;\">\n",
       "      <th></th>\n",
       "      <th>id</th>\n",
       "      <th>text</th>\n",
       "    </tr>\n",
       "  </thead>\n",
       "  <tbody>\n",
       "    <tr>\n",
       "      <th>0</th>\n",
       "      <td>1620267932214231040</td>\n",
       "      <td>@jwindori 🥺 ❤️</td>\n",
       "    </tr>\n",
       "    <tr>\n",
       "      <th>1</th>\n",
       "      <td>1620264491152801792</td>\n",
       "      <td>@aruun Yay! 🙌</td>\n",
       "    </tr>\n",
       "    <tr>\n",
       "      <th>2</th>\n",
       "      <td>1620258259742474241</td>\n",
       "      <td>@MissBurbidge Yum! Which ones did you get? 😋</td>\n",
       "    </tr>\n",
       "  </tbody>\n",
       "</table>\n",
       "</div>"
      ],
      "text/plain": [
       "                    id                                          text\n",
       "0  1620267932214231040                                @jwindori 🥺 ❤️\n",
       "1  1620264491152801792                                 @aruun Yay! 🙌\n",
       "2  1620258259742474241  @MissBurbidge Yum! Which ones did you get? 😋"
      ]
     },
     "execution_count": 18,
     "metadata": {},
     "output_type": "execute_result"
    }
   ],
   "source": [
    "#Preview Dataframe\n",
    "df.head(3)"
   ]
  },
  {
   "cell_type": "code",
   "execution_count": 19,
   "id": "bb3a4c9e",
   "metadata": {},
   "outputs": [
    {
     "name": "stdout",
     "output_type": "stream",
     "text": [
      "<class 'pandas.core.frame.DataFrame'>\n",
      "RangeIndex: 100 entries, 0 to 99\n",
      "Data columns (total 2 columns):\n",
      " #   Column  Non-Null Count  Dtype \n",
      "---  ------  --------------  ----- \n",
      " 0   id      100 non-null    object\n",
      " 1   text    100 non-null    object\n",
      "dtypes: object(2)\n",
      "memory usage: 1.7+ KB\n"
     ]
    }
   ],
   "source": [
    "# Check datatypes and null values\n",
    "df.info()"
   ]
  },
  {
   "cell_type": "code",
   "execution_count": 20,
   "id": "11bc9d31",
   "metadata": {},
   "outputs": [],
   "source": [
    "# Convert data to string\n",
    "df = df.astype('string')"
   ]
  },
  {
   "cell_type": "code",
   "execution_count": 21,
   "id": "c5dbe070",
   "metadata": {},
   "outputs": [
    {
     "name": "stdout",
     "output_type": "stream",
     "text": [
      "<class 'pandas.core.frame.DataFrame'>\n",
      "RangeIndex: 100 entries, 0 to 99\n",
      "Data columns (total 2 columns):\n",
      " #   Column  Non-Null Count  Dtype \n",
      "---  ------  --------------  ----- \n",
      " 0   id      100 non-null    string\n",
      " 1   text    100 non-null    string\n",
      "dtypes: string(2)\n",
      "memory usage: 1.7 KB\n"
     ]
    }
   ],
   "source": [
    "# Check datatypes and null values\n",
    "df.info()"
   ]
  },
  {
   "cell_type": "code",
   "execution_count": 22,
   "id": "3de360fc",
   "metadata": {},
   "outputs": [],
   "source": [
    "# Remove usernames from tweets\n",
    "df['text'] =  [re.sub('@[^\\s]+','', str(x)) for x in df['text']]"
   ]
  },
  {
   "cell_type": "code",
   "execution_count": 23,
   "id": "d00b90c7",
   "metadata": {},
   "outputs": [],
   "source": [
    "# Remove links from tweets\n",
    "df['text'] =  [re.sub('https[^\\s]+','', str(x)) for x in df['text']]"
   ]
  },
  {
   "cell_type": "code",
   "execution_count": 24,
   "id": "6c05ae9e",
   "metadata": {},
   "outputs": [
    {
     "data": {
      "text/html": [
       "<div>\n",
       "<style scoped>\n",
       "    .dataframe tbody tr th:only-of-type {\n",
       "        vertical-align: middle;\n",
       "    }\n",
       "\n",
       "    .dataframe tbody tr th {\n",
       "        vertical-align: top;\n",
       "    }\n",
       "\n",
       "    .dataframe thead th {\n",
       "        text-align: right;\n",
       "    }\n",
       "</style>\n",
       "<table border=\"1\" class=\"dataframe\">\n",
       "  <thead>\n",
       "    <tr style=\"text-align: right;\">\n",
       "      <th></th>\n",
       "      <th>id</th>\n",
       "      <th>text</th>\n",
       "    </tr>\n",
       "  </thead>\n",
       "  <tbody>\n",
       "    <tr>\n",
       "      <th>0</th>\n",
       "      <td>1620267932214231040</td>\n",
       "      <td>🥺 ❤️</td>\n",
       "    </tr>\n",
       "    <tr>\n",
       "      <th>1</th>\n",
       "      <td>1620264491152801792</td>\n",
       "      <td>Yay! 🙌</td>\n",
       "    </tr>\n",
       "    <tr>\n",
       "      <th>2</th>\n",
       "      <td>1620258259742474241</td>\n",
       "      <td>Yum! Which ones did you get? 😋</td>\n",
       "    </tr>\n",
       "  </tbody>\n",
       "</table>\n",
       "</div>"
      ],
      "text/plain": [
       "                    id                             text\n",
       "0  1620267932214231040                             🥺 ❤️\n",
       "1  1620264491152801792                           Yay! 🙌\n",
       "2  1620258259742474241   Yum! Which ones did you get? 😋"
      ]
     },
     "execution_count": 24,
     "metadata": {},
     "output_type": "execute_result"
    }
   ],
   "source": [
    "# Preview Dataframe\n",
    "df.head(3)"
   ]
  },
  {
   "cell_type": "markdown",
   "id": "e0e4210f",
   "metadata": {},
   "source": [
    "---"
   ]
  },
  {
   "cell_type": "markdown",
   "id": "878a9c75",
   "metadata": {},
   "source": [
    "### 4) Use GCP to Conduct Sentiment Analysis"
   ]
  },
  {
   "cell_type": "markdown",
   "id": "b636e1ac",
   "metadata": {},
   "source": [
    "#### 4a) Computing for Sentiment Scores and Magnitude"
   ]
  },
  {
   "cell_type": "code",
   "execution_count": 25,
   "id": "591aca19",
   "metadata": {},
   "outputs": [],
   "source": [
    "#Create environment variable for Google Cloud credentials\n",
    "os.environ[\"GOOGLE_APPLICATION_CREDENTIALS\"] = 'admn5015-w2023-a01afcb67ba2.json' #\"path/to/credentials.json\""
   ]
  },
  {
   "cell_type": "code",
   "execution_count": 26,
   "id": "4899a908",
   "metadata": {},
   "outputs": [],
   "source": [
    "# Instantiates a client\n",
    "client = language_v1.LanguageServiceClient()"
   ]
  },
  {
   "cell_type": "code",
   "execution_count": 27,
   "id": "9a422143",
   "metadata": {},
   "outputs": [],
   "source": [
    "# Add columns to dataframe for sentiment_score and sentiment magnitude\n",
    "df = df.reindex(columns=['id','text','sentiment_score','sentiment_magnitude'])"
   ]
  },
  {
   "cell_type": "code",
   "execution_count": 28,
   "id": "74e72b5d",
   "metadata": {},
   "outputs": [
    {
     "data": {
      "text/html": [
       "<div>\n",
       "<style scoped>\n",
       "    .dataframe tbody tr th:only-of-type {\n",
       "        vertical-align: middle;\n",
       "    }\n",
       "\n",
       "    .dataframe tbody tr th {\n",
       "        vertical-align: top;\n",
       "    }\n",
       "\n",
       "    .dataframe thead th {\n",
       "        text-align: right;\n",
       "    }\n",
       "</style>\n",
       "<table border=\"1\" class=\"dataframe\">\n",
       "  <thead>\n",
       "    <tr style=\"text-align: right;\">\n",
       "      <th></th>\n",
       "      <th>id</th>\n",
       "      <th>text</th>\n",
       "      <th>sentiment_score</th>\n",
       "      <th>sentiment_magnitude</th>\n",
       "    </tr>\n",
       "  </thead>\n",
       "  <tbody>\n",
       "    <tr>\n",
       "      <th>0</th>\n",
       "      <td>1620267932214231040</td>\n",
       "      <td>🥺 ❤️</td>\n",
       "      <td>NaN</td>\n",
       "      <td>NaN</td>\n",
       "    </tr>\n",
       "    <tr>\n",
       "      <th>1</th>\n",
       "      <td>1620264491152801792</td>\n",
       "      <td>Yay! 🙌</td>\n",
       "      <td>NaN</td>\n",
       "      <td>NaN</td>\n",
       "    </tr>\n",
       "    <tr>\n",
       "      <th>2</th>\n",
       "      <td>1620258259742474241</td>\n",
       "      <td>Yum! Which ones did you get? 😋</td>\n",
       "      <td>NaN</td>\n",
       "      <td>NaN</td>\n",
       "    </tr>\n",
       "  </tbody>\n",
       "</table>\n",
       "</div>"
      ],
      "text/plain": [
       "                    id                             text  sentiment_score  \\\n",
       "0  1620267932214231040                             🥺 ❤️              NaN   \n",
       "1  1620264491152801792                           Yay! 🙌              NaN   \n",
       "2  1620258259742474241   Yum! Which ones did you get? 😋              NaN   \n",
       "\n",
       "   sentiment_magnitude  \n",
       "0                  NaN  \n",
       "1                  NaN  \n",
       "2                  NaN  "
      ]
     },
     "execution_count": 28,
     "metadata": {},
     "output_type": "execute_result"
    }
   ],
   "source": [
    "# Preview Dataframe\n",
    "df.head(3)"
   ]
  },
  {
   "cell_type": "code",
   "execution_count": 29,
   "id": "0dc31355",
   "metadata": {},
   "outputs": [],
   "source": [
    "# Loop through each record\n",
    "\n",
    "for i in range(0,len(df)):\n",
    "    \n",
    "    #Create Document Object\n",
    "    document = language_v1.Document(content=df['text'][i], type_=language_v1.Document.Type.PLAIN_TEXT)\n",
    "    \n",
    "    # Detects the sentiment of the text\n",
    "    sentiment = client.analyze_sentiment(request={\"document\": document}).document_sentiment\n",
    "    \n",
    "    #Get Sentiment Score and Magnitude\n",
    "    df.at[i,'sentiment_score'] = sentiment.score\n",
    "    df.at[i,'sentiment_magnitude'] = sentiment.magnitude"
   ]
  },
  {
   "cell_type": "code",
   "execution_count": 30,
   "id": "f7d4f5ff",
   "metadata": {
    "scrolled": true
   },
   "outputs": [
    {
     "data": {
      "text/html": [
       "<div>\n",
       "<style scoped>\n",
       "    .dataframe tbody tr th:only-of-type {\n",
       "        vertical-align: middle;\n",
       "    }\n",
       "\n",
       "    .dataframe tbody tr th {\n",
       "        vertical-align: top;\n",
       "    }\n",
       "\n",
       "    .dataframe thead th {\n",
       "        text-align: right;\n",
       "    }\n",
       "</style>\n",
       "<table border=\"1\" class=\"dataframe\">\n",
       "  <thead>\n",
       "    <tr style=\"text-align: right;\">\n",
       "      <th></th>\n",
       "      <th>id</th>\n",
       "      <th>text</th>\n",
       "      <th>sentiment_score</th>\n",
       "      <th>sentiment_magnitude</th>\n",
       "    </tr>\n",
       "  </thead>\n",
       "  <tbody>\n",
       "    <tr>\n",
       "      <th>0</th>\n",
       "      <td>1620267932214231040</td>\n",
       "      <td>🥺 ❤️</td>\n",
       "      <td>0.6000</td>\n",
       "      <td>0.6000</td>\n",
       "    </tr>\n",
       "    <tr>\n",
       "      <th>1</th>\n",
       "      <td>1620264491152801792</td>\n",
       "      <td>Yay! 🙌</td>\n",
       "      <td>0.6000</td>\n",
       "      <td>1.2000</td>\n",
       "    </tr>\n",
       "    <tr>\n",
       "      <th>2</th>\n",
       "      <td>1620258259742474241</td>\n",
       "      <td>Yum! Which ones did you get? 😋</td>\n",
       "      <td>0.2000</td>\n",
       "      <td>0.8000</td>\n",
       "    </tr>\n",
       "  </tbody>\n",
       "</table>\n",
       "</div>"
      ],
      "text/plain": [
       "                    id                             text  sentiment_score  \\\n",
       "0  1620267932214231040                             🥺 ❤️           0.6000   \n",
       "1  1620264491152801792                           Yay! 🙌           0.6000   \n",
       "2  1620258259742474241   Yum! Which ones did you get? 😋           0.2000   \n",
       "\n",
       "   sentiment_magnitude  \n",
       "0               0.6000  \n",
       "1               1.2000  \n",
       "2               0.8000  "
      ]
     },
     "execution_count": 30,
     "metadata": {},
     "output_type": "execute_result"
    }
   ],
   "source": [
    "# Preview Dataframe\n",
    "df.head(3)"
   ]
  },
  {
   "cell_type": "code",
   "execution_count": 31,
   "id": "5a62c5d6",
   "metadata": {},
   "outputs": [
    {
     "data": {
      "text/html": [
       "<div>\n",
       "<style scoped>\n",
       "    .dataframe tbody tr th:only-of-type {\n",
       "        vertical-align: middle;\n",
       "    }\n",
       "\n",
       "    .dataframe tbody tr th {\n",
       "        vertical-align: top;\n",
       "    }\n",
       "\n",
       "    .dataframe thead th {\n",
       "        text-align: right;\n",
       "    }\n",
       "</style>\n",
       "<table border=\"1\" class=\"dataframe\">\n",
       "  <thead>\n",
       "    <tr style=\"text-align: right;\">\n",
       "      <th></th>\n",
       "      <th>id</th>\n",
       "      <th>text</th>\n",
       "      <th>sentiment_score</th>\n",
       "      <th>sentiment_magnitude</th>\n",
       "    </tr>\n",
       "  </thead>\n",
       "  <tbody>\n",
       "    <tr>\n",
       "      <th>97</th>\n",
       "      <td>1619322799855734784</td>\n",
       "      <td>Thank you for reaching out to us, our Digital...</td>\n",
       "      <td>0.4000</td>\n",
       "      <td>1.0000</td>\n",
       "    </tr>\n",
       "    <tr>\n",
       "      <th>98</th>\n",
       "      <td>1619309935740715009</td>\n",
       "      <td>Thank you for reaching out to us, our Digital...</td>\n",
       "      <td>0.4000</td>\n",
       "      <td>1.0000</td>\n",
       "    </tr>\n",
       "    <tr>\n",
       "      <th>99</th>\n",
       "      <td>1619277519101870080</td>\n",
       "      <td>Thanks for reaching out. We’re sorry for any ...</td>\n",
       "      <td>0.4000</td>\n",
       "      <td>1.8000</td>\n",
       "    </tr>\n",
       "  </tbody>\n",
       "</table>\n",
       "</div>"
      ],
      "text/plain": [
       "                     id                                               text  \\\n",
       "97  1619322799855734784   Thank you for reaching out to us, our Digital...   \n",
       "98  1619309935740715009   Thank you for reaching out to us, our Digital...   \n",
       "99  1619277519101870080   Thanks for reaching out. We’re sorry for any ...   \n",
       "\n",
       "    sentiment_score  sentiment_magnitude  \n",
       "97           0.4000               1.0000  \n",
       "98           0.4000               1.0000  \n",
       "99           0.4000               1.8000  "
      ]
     },
     "execution_count": 31,
     "metadata": {},
     "output_type": "execute_result"
    }
   ],
   "source": [
    "# Preview Dataframe\n",
    "df.tail(3)"
   ]
  },
  {
   "cell_type": "code",
   "execution_count": 32,
   "id": "62e0bcad",
   "metadata": {},
   "outputs": [
    {
     "name": "stdout",
     "output_type": "stream",
     "text": [
      "<class 'pandas.core.frame.DataFrame'>\n",
      "RangeIndex: 100 entries, 0 to 99\n",
      "Data columns (total 4 columns):\n",
      " #   Column               Non-Null Count  Dtype  \n",
      "---  ------               --------------  -----  \n",
      " 0   id                   100 non-null    string \n",
      " 1   text                 100 non-null    object \n",
      " 2   sentiment_score      100 non-null    float64\n",
      " 3   sentiment_magnitude  100 non-null    float64\n",
      "dtypes: float64(2), object(1), string(1)\n",
      "memory usage: 3.2+ KB\n"
     ]
    }
   ],
   "source": [
    "# Check datatypes and null values\n",
    "df.info()"
   ]
  },
  {
   "cell_type": "code",
   "execution_count": 33,
   "id": "b229604f",
   "metadata": {},
   "outputs": [
    {
     "data": {
      "text/html": [
       "<div>\n",
       "<style scoped>\n",
       "    .dataframe tbody tr th:only-of-type {\n",
       "        vertical-align: middle;\n",
       "    }\n",
       "\n",
       "    .dataframe tbody tr th {\n",
       "        vertical-align: top;\n",
       "    }\n",
       "\n",
       "    .dataframe thead th {\n",
       "        text-align: right;\n",
       "    }\n",
       "</style>\n",
       "<table border=\"1\" class=\"dataframe\">\n",
       "  <thead>\n",
       "    <tr style=\"text-align: right;\">\n",
       "      <th></th>\n",
       "      <th>count</th>\n",
       "      <th>mean</th>\n",
       "      <th>std</th>\n",
       "      <th>min</th>\n",
       "      <th>25%</th>\n",
       "      <th>50%</th>\n",
       "      <th>75%</th>\n",
       "      <th>max</th>\n",
       "    </tr>\n",
       "  </thead>\n",
       "  <tbody>\n",
       "    <tr>\n",
       "      <th>sentiment_score</th>\n",
       "      <td>100.0000</td>\n",
       "      <td>0.0890</td>\n",
       "      <td>0.4422</td>\n",
       "      <td>-0.6000</td>\n",
       "      <td>-0.2250</td>\n",
       "      <td>0.1500</td>\n",
       "      <td>0.4000</td>\n",
       "      <td>0.9000</td>\n",
       "    </tr>\n",
       "    <tr>\n",
       "      <th>sentiment_magnitude</th>\n",
       "      <td>100.0000</td>\n",
       "      <td>1.0100</td>\n",
       "      <td>0.3966</td>\n",
       "      <td>0.1000</td>\n",
       "      <td>0.8000</td>\n",
       "      <td>1.0000</td>\n",
       "      <td>1.1250</td>\n",
       "      <td>2.5000</td>\n",
       "    </tr>\n",
       "  </tbody>\n",
       "</table>\n",
       "</div>"
      ],
      "text/plain": [
       "                       count   mean    std     min     25%    50%    75%  \\\n",
       "sentiment_score     100.0000 0.0890 0.4422 -0.6000 -0.2250 0.1500 0.4000   \n",
       "sentiment_magnitude 100.0000 1.0100 0.3966  0.1000  0.8000 1.0000 1.1250   \n",
       "\n",
       "                       max  \n",
       "sentiment_score     0.9000  \n",
       "sentiment_magnitude 2.5000  "
      ]
     },
     "execution_count": 33,
     "metadata": {},
     "output_type": "execute_result"
    }
   ],
   "source": [
    "# See descriptive statistics of sentiment scores\n",
    "df.describe().T"
   ]
  },
  {
   "cell_type": "markdown",
   "id": "1e184471",
   "metadata": {},
   "source": [
    "#### 4b) Classifying Tweets into Sentiment Results"
   ]
  },
  {
   "cell_type": "markdown",
   "id": "ef7698b3",
   "metadata": {},
   "source": [
    "Tweets will be classified using the thresholds indicated in the table below. \n",
    "\n",
    "|Sentiment Class| Sentiment | Sentiment Score | Sentiment Magnitude |\n",
    "|:-----:|:---------:|:---------------:|:--------------------:|\n",
    "|1|Clearly Positive| Above 0 | Above 0 | \n",
    "|2|Clearly Negative| Below 0 | Above 0 |\n",
    "|3|Neutral| Zero | Zero |\n",
    "|4|Mixed | 0 | Above 0|\n",
    "\n",
    "Tweets with a neutral score of 0 can show that a tweet has little or no emotions, or it could indicate mixed emotions that cancel each other out. \n",
    "\n",
    "This is why magnitude is taken into consideration since this indicates how much emotional content is in each tweet. More text in the document could generate more emotional content, which is why longer text could correspond to a higher sentiment magnitude. \n",
    "\n",
    "Considering that tweets are short text, a low threshold for sentiment magnitude is established.\n",
    "\n",
    "Source: [Natural Language API Basics: Interpreting Sentiment Analysis Values](https://cloud.google.com/natural-language/docs/basics)"
   ]
  },
  {
   "cell_type": "code",
   "execution_count": 34,
   "id": "a1157cd5",
   "metadata": {},
   "outputs": [],
   "source": [
    "# Define conditions for sentiment classifications\n",
    "condition_list = [(df['sentiment_score'].astype(float) > 0) & (df['sentiment_magnitude'].astype(float) > 0),\n",
    "                  (df['sentiment_score'].astype(float) < 0) & (df['sentiment_magnitude'].astype(float) > 0),\n",
    "                  (df['sentiment_score'].astype(float) == 0) & (df['sentiment_magnitude'].astype(float) < 0),\n",
    "                  (df['sentiment_score'].astype(float) == 0) & (df['sentiment_magnitude'].astype(float) > 0)]"
   ]
  },
  {
   "cell_type": "code",
   "execution_count": 35,
   "id": "2f79c980",
   "metadata": {},
   "outputs": [],
   "source": [
    "# Define Sentiment Classes\n",
    "choice_list = ['Clearly Positive','Clearly Negative','Neutral','Mixed']"
   ]
  },
  {
   "cell_type": "code",
   "execution_count": 36,
   "id": "195b46b8",
   "metadata": {},
   "outputs": [],
   "source": [
    "# Classify Tweets based on conditions\n",
    "df['sentiment_class'] = np.select(condition_list, choice_list, \"none\")"
   ]
  },
  {
   "cell_type": "code",
   "execution_count": 37,
   "id": "e8a8e695",
   "metadata": {},
   "outputs": [
    {
     "data": {
      "text/html": [
       "<div>\n",
       "<style scoped>\n",
       "    .dataframe tbody tr th:only-of-type {\n",
       "        vertical-align: middle;\n",
       "    }\n",
       "\n",
       "    .dataframe tbody tr th {\n",
       "        vertical-align: top;\n",
       "    }\n",
       "\n",
       "    .dataframe thead th {\n",
       "        text-align: right;\n",
       "    }\n",
       "</style>\n",
       "<table border=\"1\" class=\"dataframe\">\n",
       "  <thead>\n",
       "    <tr style=\"text-align: right;\">\n",
       "      <th></th>\n",
       "      <th>id</th>\n",
       "      <th>text</th>\n",
       "      <th>sentiment_score</th>\n",
       "      <th>sentiment_magnitude</th>\n",
       "      <th>sentiment_class</th>\n",
       "    </tr>\n",
       "  </thead>\n",
       "  <tbody>\n",
       "    <tr>\n",
       "      <th>0</th>\n",
       "      <td>1620267932214231040</td>\n",
       "      <td>🥺 ❤️</td>\n",
       "      <td>0.6000</td>\n",
       "      <td>0.6000</td>\n",
       "      <td>Clearly Positive</td>\n",
       "    </tr>\n",
       "    <tr>\n",
       "      <th>1</th>\n",
       "      <td>1620264491152801792</td>\n",
       "      <td>Yay! 🙌</td>\n",
       "      <td>0.6000</td>\n",
       "      <td>1.2000</td>\n",
       "      <td>Clearly Positive</td>\n",
       "    </tr>\n",
       "    <tr>\n",
       "      <th>2</th>\n",
       "      <td>1620258259742474241</td>\n",
       "      <td>Yum! Which ones did you get? 😋</td>\n",
       "      <td>0.2000</td>\n",
       "      <td>0.8000</td>\n",
       "      <td>Clearly Positive</td>\n",
       "    </tr>\n",
       "  </tbody>\n",
       "</table>\n",
       "</div>"
      ],
      "text/plain": [
       "                    id                             text  sentiment_score  \\\n",
       "0  1620267932214231040                             🥺 ❤️           0.6000   \n",
       "1  1620264491152801792                           Yay! 🙌           0.6000   \n",
       "2  1620258259742474241   Yum! Which ones did you get? 😋           0.2000   \n",
       "\n",
       "   sentiment_magnitude   sentiment_class  \n",
       "0               0.6000  Clearly Positive  \n",
       "1               1.2000  Clearly Positive  \n",
       "2               0.8000  Clearly Positive  "
      ]
     },
     "execution_count": 37,
     "metadata": {},
     "output_type": "execute_result"
    }
   ],
   "source": [
    "# Preview the Dataframe\n",
    "df.head(3)"
   ]
  },
  {
   "cell_type": "code",
   "execution_count": 38,
   "id": "b2ea4fd3",
   "metadata": {},
   "outputs": [
    {
     "data": {
      "text/plain": [
       "Clearly Positive    52\n",
       "Clearly Negative    45\n",
       "Mixed                3\n",
       "Name: sentiment_class, dtype: int64"
      ]
     },
     "execution_count": 38,
     "metadata": {},
     "output_type": "execute_result"
    }
   ],
   "source": [
    "# Checking if all tweets have been classified (no 'none' values)\n",
    "df['sentiment_class'].value_counts()"
   ]
  },
  {
   "cell_type": "markdown",
   "id": "5944698b",
   "metadata": {},
   "source": [
    "---"
   ]
  },
  {
   "cell_type": "markdown",
   "id": "7d4f243d",
   "metadata": {},
   "source": [
    "### 5) Summarize Sentiment Results"
   ]
  },
  {
   "cell_type": "markdown",
   "id": "893e5ff5",
   "metadata": {},
   "source": [
    "#### 5a) Sentiment Average"
   ]
  },
  {
   "cell_type": "code",
   "execution_count": 39,
   "id": "9d6501c6",
   "metadata": {},
   "outputs": [],
   "source": [
    "ave_sentiment = df['sentiment_score'].mean()"
   ]
  },
  {
   "cell_type": "code",
   "execution_count": 40,
   "id": "fead56d8",
   "metadata": {},
   "outputs": [],
   "source": [
    "ave_magnitude = df['sentiment_magnitude'].mean()"
   ]
  },
  {
   "cell_type": "code",
   "execution_count": 41,
   "id": "600ece49",
   "metadata": {},
   "outputs": [
    {
     "name": "stdout",
     "output_type": "stream",
     "text": [
      "Average Sentiment Score: 0.09\n",
      "Average Sentiment Magnitude: 1.01\n"
     ]
    }
   ],
   "source": [
    "print(f'''Average Sentiment Score: {round(ave_sentiment,2)}\n",
    "Average Sentiment Magnitude: {round(ave_magnitude,2)}''')"
   ]
  },
  {
   "cell_type": "markdown",
   "id": "f5d0953a",
   "metadata": {},
   "source": [
    "The average sentiment score, while positive, is quite close to zero. This could indicate a balanced number of positive and negative tweets that cancel each other out, or that most tweets are neutral. \n",
    "\n",
    "Additionally, the average sentiment is around 1, which is not surprising given the limited number of characters contained in a tweet. \n",
    "\n",
    "The following visualizations will add more depth to the interpretation of these numbers. "
   ]
  },
  {
   "cell_type": "markdown",
   "id": "4c35573e",
   "metadata": {},
   "source": [
    "#### 5b) Distribution of Sentiment Score and Sentiment Magnitude"
   ]
  },
  {
   "cell_type": "code",
   "execution_count": 42,
   "id": "0673ec17",
   "metadata": {},
   "outputs": [
    {
     "data": {
      "image/png": "[encoded data removed]",
      "text/plain": [
       "<Figure size 1500x500 with 2 Axes>"
      ]
     },
     "metadata": {},
     "output_type": "display_data"
    }
   ],
   "source": [
    "# Plot Distribution of Sentiment\n",
    "df.hist(column = ['sentiment_score','sentiment_magnitude'],figsize=(15,5),bins = 10);"
   ]
  },
  {
   "cell_type": "markdown",
   "id": "71faa1f5",
   "metadata": {},
   "source": [
    "Taking the distribution of sentiment scores at face value, there seem to be more positive tweets than negative tweets.\n",
    "\n",
    "Additionally, the sentiment magnitude distribution also seems to indicate that most tweets have some emotional content, although they are concentrated near the 1.0 value."
   ]
  },
  {
   "cell_type": "markdown",
   "id": "01e24ca2",
   "metadata": {},
   "source": [
    "#### 5c) Count of Sentiment Classifications"
   ]
  },
  {
   "cell_type": "code",
   "execution_count": 43,
   "id": "0645e2b7",
   "metadata": {
    "scrolled": false
   },
   "outputs": [
    {
     "data": {
      "image/png": "[encoded data removed]",
      "text/plain": [
       "<Figure size 640x480 with 1 Axes>"
      ]
     },
     "metadata": {},
     "output_type": "display_data"
    }
   ],
   "source": [
    "# Plot count of sentiment classifications\n",
    "plt.rcParams['font.size'] = 10\n",
    "ax = sns.countplot(data = df, x = \"sentiment_class\")\n",
    "abs_values = df['sentiment_class'].value_counts(ascending=False).values\n",
    "ax.bar_label(container=ax.containers[0], labels=abs_values);"
   ]
  },
  {
   "cell_type": "markdown",
   "id": "eac40a30",
   "metadata": {},
   "source": [
    "Based on the count of sentiment classifications, majority of tweets from Tim Hortons have been clearly positive, and the rest of the tweets are somewhat split between clearly negative and mixed sentiments. This could indicate the Tim Hortons' social media management is able to convey positive emotions for its brand.\n",
    "\n",
    "A deeper analysis may be recommended for clearly negative tweets to determine why negative emotions are being conveyed in these tweets. \n",
    "\n",
    "Further sentiment analysis can also be conducted based on tweets from other accounts that mention the brand, or from the brand's competitors. "
   ]
  },
  {
   "cell_type": "markdown",
   "id": "618bc46a",
   "metadata": {},
   "source": [
    "#### 5d) Word Clouds of Tweets"
   ]
  },
  {
   "cell_type": "markdown",
   "id": "529c5daf",
   "metadata": {},
   "source": [
    "##### Positive Tweets"
   ]
  },
  {
   "cell_type": "code",
   "execution_count": 44,
   "id": "86993c26",
   "metadata": {},
   "outputs": [],
   "source": [
    "# Defining insignificant words with little meaning/ value\n",
    "stop_words = stopwords.words('english')"
   ]
  },
  {
   "cell_type": "code",
   "execution_count": 45,
   "id": "b7a682b8",
   "metadata": {},
   "outputs": [],
   "source": [
    "# Creating a positive tweets dataframe\n",
    "df_positive = df[df['sentiment_class']== 'Clearly Positive']"
   ]
  },
  {
   "cell_type": "code",
   "execution_count": 46,
   "id": "b96c8092",
   "metadata": {},
   "outputs": [],
   "source": [
    "# Instantiating a Word Cloud object for positive tweets\n",
    "pos_tweets = WordCloud(stopwords = stop_words, background_color=\"white\").generate(' '.join(df_positive['text']))"
   ]
  },
  {
   "cell_type": "code",
   "execution_count": 47,
   "id": "bbf54c26",
   "metadata": {},
   "outputs": [
    {
     "data": {
      "image/png": "[encoded data removed]",
      "text/plain": [
       "<Figure size 640x480 with 1 Axes>"
      ]
     },
     "metadata": {},
     "output_type": "display_data"
    }
   ],
   "source": [
    "# Visualize Word Cloud\n",
    "plt.imshow(pos_tweets)\n",
    "plt.axis(\"off\")\n",
    "plt.show()"
   ]
  },
  {
   "cell_type": "markdown",
   "id": "538090bb",
   "metadata": {},
   "source": [
    "##### Negative Tweets"
   ]
  },
  {
   "cell_type": "code",
   "execution_count": 48,
   "id": "590f8782",
   "metadata": {},
   "outputs": [],
   "source": [
    "# Creating a negative tweets dataframe\n",
    "df_negative = df[df['sentiment_class']== 'Clearly Negative']"
   ]
  },
  {
   "cell_type": "code",
   "execution_count": 49,
   "id": "c8937247",
   "metadata": {},
   "outputs": [],
   "source": [
    "# Instantiating a Word Cloud object for negative tweets\n",
    "neg_tweets = WordCloud(stopwords = stop_words, background_color=\"white\").generate(' '.join(df_negative['text']))"
   ]
  },
  {
   "cell_type": "code",
   "execution_count": 50,
   "id": "823aadbe",
   "metadata": {},
   "outputs": [
    {
     "data": {
      "image/png": "[encoded data removed]",
      "text/plain": [
       "<Figure size 640x480 with 1 Axes>"
      ]
     },
     "metadata": {},
     "output_type": "display_data"
    }
   ],
   "source": [
    "# Visualize Word Cloud\n",
    "plt.imshow(neg_tweets)\n",
    "plt.axis(\"off\")\n",
    "plt.show()"
   ]
  },
  {
   "cell_type": "markdown",
   "id": "ce027638",
   "metadata": {},
   "source": [
    "##### World Cloud Interpretations"
   ]
  },
  {
   "cell_type": "markdown",
   "id": "e6e8317b",
   "metadata": {},
   "source": [
    "It seems that most tweets, both positive and negative, have a notable number of imperative words and word combinations like \"please\", \"please follow\", \"please send\", \"please contact\", etc. \n",
    "\n",
    "Positive words like \"support\" and \"thank\", \"happy\", \"assistance, and \"support team\" seem to be highly observed in positive tweets. On the other hand, \"sorry\" seems to be a highly common word among negative tweets, which indicate that it could be replies to customer complaints. One caveat is that these word clouds do not show emoticons used in tweets, which could contribute to the sentiment score generated through GCP which detects such characters.\n",
    "\n",
    "Determining the root cause of these tweets could provide more insight as to how Tim Hortons could further improve customer experience as well as take care of their brand reputation."
   ]
  }
 ],
 "metadata": {
  "kernelspec": {
   "display_name": "Python 3 (ipykernel)",
   "language": "python",
   "name": "python3"
  },
  "language_info": {
   "codemirror_mode": {
    "name": "ipython",
    "version": 3
   },
   "file_extension": ".py",
   "mimetype": "text/x-python",
   "name": "python",
   "nbconvert_exporter": "python",
   "pygments_lexer": "ipython3",
   "version": "3.9.16"
  }
 },
 "nbformat": 4,
 "nbformat_minor": 5
}
